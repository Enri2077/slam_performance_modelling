{
 "cells": [
  {
   "cell_type": "code",
   "execution_count": 1,
   "metadata": {},
   "outputs": [
    {
     "data": {
      "text/html": [
       "<style>.container { width:100% !important; }</style>"
      ],
      "text/plain": [
       "<IPython.core.display.HTML object>"
      ]
     },
     "metadata": {},
     "output_type": "display_data"
    }
   ],
   "source": [
    "from IPython.core.display import Markdown, display, HTML\n",
    "display(HTML(\"<style>.container { width:100% !important; }</style>\"))\n",
    "import ipywidgets as widgets\n",
    "from ipywidgets import interact, interact_manual\n",
    "\n",
    "import traceback\n",
    "import numpy as np\n",
    "import scipy.stats as ss\n",
    "import itertools\n",
    "from os import path\n",
    "import pickle\n",
    "from sklearn.linear_model import LinearRegression, TheilSenRegressor, RANSACRegressor, HuberRegressor\n",
    "from sklearn.metrics import mean_squared_error, r2_score\n",
    "from sklearn.preprocessing import PolynomialFeatures, StandardScaler\n",
    "from sklearn.pipeline import make_pipeline\n",
    "\n",
    "import matplotlib.pyplot as plt\n",
    "plt.rcParams['figure.figsize'] = [13, 13]\n",
    "\n",
    "import pandas as pd\n",
    "pd.options.display.width = 500\n",
    "\n",
    "slam_node_colors = {'gmapping': 'orange', 'slam_toolbox': 'blue', 'hector_slam': 'cyan'}\n"
   ]
  },
  {
   "cell_type": "code",
   "execution_count": 2,
   "metadata": {},
   "outputs": [],
   "source": [
    "def load_cache(file_path):\n",
    "    with open(path.expanduser(file_path), 'rb') as f:\n",
    "        cache_dict = pickle.load(f)\n",
    "        return cache_dict['df']\n",
    "\n",
    "def printmd(*args):\n",
    "    display(Markdown(' '.join(map(str, args))))"
   ]
  },
  {
   "cell_type": "code",
   "execution_count": 3,
   "metadata": {
    "scrolled": false
   },
   "outputs": [
    {
     "data": {
      "text/markdown": [
       "## Parameters and Their Values"
      ],
      "text/plain": [
       "<IPython.core.display.Markdown object>"
      ]
     },
     "metadata": {},
     "output_type": "display_data"
    },
    {
     "data": {
      "text/markdown": [
       "               laser_scan_max_range [3.5, 8.0, 15.0, 30.0]"
      ],
      "text/plain": [
       "<IPython.core.display.Markdown object>"
      ]
     },
     "metadata": {},
     "output_type": "display_data"
    },
    {
     "data": {
      "text/markdown": [
       "                 laser_scan_fov_deg [90, 180, 270, 359]"
      ],
      "text/plain": [
       "<IPython.core.display.Markdown object>"
      ]
     },
     "metadata": {},
     "output_type": "display_data"
    },
    {
     "data": {
      "text/markdown": [
       "                               beta [0.0, 0.5, 1.0, 1.5, 2.0]"
      ],
      "text/plain": [
       "<IPython.core.display.Markdown object>"
      ]
     },
     "metadata": {},
     "output_type": "display_data"
    },
    {
     "data": {
      "text/markdown": [
       "                         start_time [0, 1, 2, 3, 4, 5, 6, 7, 8, 9]"
      ],
      "text/plain": [
       "<IPython.core.display.Markdown object>"
      ]
     },
     "metadata": {},
     "output_type": "display_data"
    },
    {
     "data": {
      "text/markdown": [
       "      accumulated_trajectory_length [0, 1, 2, 3, 4]"
      ],
      "text/plain": [
       "<IPython.core.display.Markdown object>"
      ]
     },
     "metadata": {},
     "output_type": "display_data"
    },
    {
     "data": {
      "text/markdown": [
       "                                lvr [0.0, 1.0, 2.0, 3.0, 4.0, 5.0, 6.0, 7.0, 8.0, 9.0]"
      ],
      "text/plain": [
       "<IPython.core.display.Markdown object>"
      ]
     },
     "metadata": {},
     "output_type": "display_data"
    },
    {
     "data": {
      "text/markdown": [
       "                          slam_node ['gmapping', 'hector_slam', 'slam_toolbox']"
      ],
      "text/plain": [
       "<IPython.core.display.Markdown object>"
      ]
     },
     "metadata": {},
     "output_type": "display_data"
    },
    {
     "data": {
      "text/markdown": [
       "                   environment_name ['7A-2', 'airlab', 'fr079', 'office_b']"
      ],
      "text/plain": [
       "<IPython.core.display.Markdown object>"
      ]
     },
     "metadata": {},
     "output_type": "display_data"
    }
   ],
   "source": [
    "# load data from cache and rename columns\n",
    "df_new_config = load_cache(\"/home/enrico/ds/performance_modelling/output/slam_new_config/run_data_per_waypoint_cache.pkl\")\n",
    "df_many_odoms = load_cache(\"/home/enrico/ds/performance_modelling/output/slam_many_odoms/run_data_per_waypoint_cache.pkl\")\n",
    "df = df_new_config.append(df_many_odoms, ignore_index=True, sort=False)\n",
    "\n",
    "df.rename(inplace=True, columns={\n",
    "    'trajectory_length_trajectory_length': 'trajectory_length',\n",
    "    'waypoint_relative_localization_error_translation_error_final': 'translation_error',\n",
    "    'waypoint_absolute_localization_error_absolute_translation_error_start': 'absolute_translation_error',\n",
    "    'waypoint_relative_localization_error_rotation_error_final': 'rotation_error',\n",
    "#     'geometric_similarity_sensor_mean_of_translation_eigenvalues_ratio_all': 'tgs_cont',\n",
    "    'lidar_visibility_mean_visible_ranges_ratio': 'lvr_cont',\n",
    "    'waypoint_start_time': 'start_time_cont',\n",
    "})\n",
    "\n",
    "# refactor and extract additional parameters and metrics\n",
    "df['linear_update'] = df['linear_angular_update'].apply(lambda x: x[0])\n",
    "df['beta'] = df['beta'].apply(lambda x: max(x))\n",
    "df['norm_translation_error'] = df.translation_error / df.trajectory_length\n",
    "df['run_id'] = df['run_folder'].apply(lambda x: path.basename(x))\n",
    "df['waypoint_index'] = df.sort_values('start_time_cont').groupby(df.run_id).cumcount()\n",
    "df['accumulated_trajectory_length_cont'] = df.sort_values('start_time_cont').groupby(df.run_id).trajectory_length.cumsum() - df.trajectory_length\n",
    "df['session_id'] =  df['run_id'].apply(lambda x:  x.split('_')[1]+'_'+x.split('_')[2]+'_'+x.split('_')[3])\n",
    "df['run_number'] =  df['run_id'].apply(lambda x:  int(x.split('_')[5]))\n",
    "df['p'] = df.translation_error.apply(lambda x: x > 0.2)\n",
    "df['max_memory_MiB'] = df['max_memory']/2**20\n",
    "\n",
    "# discretize continuous input metrics\n",
    "# df['tgs'] = pd.cut(df.tgs_cont, 5, labels=False)\n",
    "df['lvr'] = pd.cut(df.lvr_cont, 10, labels=False)\n",
    "df['start_time'] = pd.cut(df.start_time_cont, 10, labels=False)\n",
    "df['accumulated_trajectory_length'] = pd.cut(df.accumulated_trajectory_length_cont, 5, labels=False)\n",
    "\n",
    "# drop unnecessary datapoints\n",
    "df = df[(\n",
    "    ((df.slam_node == 'gmapping') | (df.slam_node == 'slam_toolbox')) & (df.linear_update == 0.5) |\n",
    "    (df.slam_node == 'hector_slam') & (df.linear_update == 0.4)\n",
    ")]\n",
    "# df = df[((df.slam_node == 'gmapping') | (df.slam_node == 'slam_toolbox')) & (df.linear_update == 0.5)]\n",
    "df = df[df.trajectory_length > 1]\n",
    "df = df[df.absolute_translation_error < 5]\n",
    "\n",
    "# only keep necessary columns\n",
    "robot_parameters = [\n",
    "    'laser_scan_max_range',\n",
    "    'laser_scan_fov_deg',\n",
    "    'beta',\n",
    "]\n",
    "other_parameters = [\n",
    "    'run_absolute_start_time',\n",
    "    'session_id',\n",
    "    'run_number',\n",
    "    'run_id',\n",
    "    'slam_node',\n",
    "    'environment_name',\n",
    "]\n",
    "input_discretized_metrics = [\n",
    "    'start_time',\n",
    "    'accumulated_trajectory_length',\n",
    "#     'tgs',\n",
    "    'lvr',\n",
    "]\n",
    "input_continuous_metrics = [\n",
    "    'waypoint_index',\n",
    "    'start_time_cont',\n",
    "#     'tgs_cont',\n",
    "    'lvr_cont',\n",
    "]\n",
    "output_metrics = [\n",
    "    'normalized_cpu_time',\n",
    "    'max_memory_MiB',\n",
    "    'norm_translation_error',\n",
    "    'absolute_translation_error',\n",
    "    'p',\n",
    "]\n",
    "df = df[\n",
    "    robot_parameters +\n",
    "    other_parameters +\n",
    "    input_discretized_metrics +\n",
    "    input_continuous_metrics +\n",
    "    output_metrics\n",
    "]\n",
    "\n",
    "# for this metric we only want to \n",
    "df = df.groupby(['run_id']).aggregate(np.max)\n",
    "\n",
    "mrs = sorted(list(df.laser_scan_max_range.unique()))\n",
    "fovs = sorted(list(df.laser_scan_fov_deg.unique()))\n",
    "betas = sorted(list(df.beta.unique()))\n",
    "betas_fovs = list(itertools.product(betas, fovs))\n",
    "\n",
    "printmd(\"## Parameters and Their Values\")\n",
    "for c in robot_parameters + input_discretized_metrics + ['slam_node', 'environment_name',]:\n",
    "    printmd(\"{:>35}\".format(c), sorted(list(df[c].unique())))"
   ]
  },
  {
   "cell_type": "code",
   "execution_count": 4,
   "metadata": {},
   "outputs": [],
   "source": [
    "output_metric = df.normalized_cpu_time"
   ]
  },
  {
   "cell_type": "code",
   "execution_count": 5,
   "metadata": {
    "scrolled": false
   },
   "outputs": [
    {
     "data": {
      "text/markdown": [
       "### Model from aggregated datapoints"
      ],
      "text/plain": [
       "<IPython.core.display.Markdown object>"
      ]
     },
     "metadata": {},
     "output_type": "display_data"
    },
    {
     "data": {
      "text/markdown": [
       "           slam_node |  r2_agg |  r2_all"
      ],
      "text/plain": [
       "<IPython.core.display.Markdown object>"
      ]
     },
     "metadata": {},
     "output_type": "display_data"
    },
    {
     "data": {
      "text/markdown": [
       "            gmapping | +0.9462 | +0.4256"
      ],
      "text/plain": [
       "<IPython.core.display.Markdown object>"
      ]
     },
     "metadata": {},
     "output_type": "display_data"
    },
    {
     "data": {
      "text/markdown": [
       "        slam_toolbox | +0.9543 | +0.1889"
      ],
      "text/plain": [
       "<IPython.core.display.Markdown object>"
      ]
     },
     "metadata": {},
     "output_type": "display_data"
    },
    {
     "data": {
      "text/markdown": [
       "         hector_slam | +0.5672 | +0.1012"
      ],
      "text/plain": [
       "<IPython.core.display.Markdown object>"
      ]
     },
     "metadata": {},
     "output_type": "display_data"
    },
    {
     "data": {
      "text/markdown": [
       "### Model from all datapoints"
      ],
      "text/plain": [
       "<IPython.core.display.Markdown object>"
      ]
     },
     "metadata": {},
     "output_type": "display_data"
    },
    {
     "data": {
      "text/markdown": [
       "           slam_node |  r2_agg |  r2_all"
      ],
      "text/plain": [
       "<IPython.core.display.Markdown object>"
      ]
     },
     "metadata": {},
     "output_type": "display_data"
    },
    {
     "data": {
      "text/markdown": [
       "            gmapping | +0.7132 | +0.3268"
      ],
      "text/plain": [
       "<IPython.core.display.Markdown object>"
      ]
     },
     "metadata": {},
     "output_type": "display_data"
    },
    {
     "data": {
      "text/markdown": [
       "        slam_toolbox | +0.1538 | +0.2560"
      ],
      "text/plain": [
       "<IPython.core.display.Markdown object>"
      ]
     },
     "metadata": {},
     "output_type": "display_data"
    },
    {
     "data": {
      "text/markdown": [
       "         hector_slam | -8.6054 | +0.2904"
      ],
      "text/plain": [
       "<IPython.core.display.Markdown object>"
      ]
     },
     "metadata": {},
     "output_type": "display_data"
    }
   ],
   "source": [
    "num_polynomial_features = 2\n",
    "\n",
    "model_agg = dict()\n",
    "model_all = dict()\n",
    "\n",
    "model_features = [\n",
    "    'laser_scan_max_range',\n",
    "    'laser_scan_fov_deg',\n",
    "    'beta',\n",
    "#     'accumulated_trajectory_length',\n",
    "]\n",
    "\n",
    "df['model_features'] = list(zip(df.laser_scan_max_range, df.laser_scan_fov_deg, df.beta))\n",
    "\n",
    "def features_transform(laser_scan_max_range, laser_scan_fov_deg, beta):\n",
    "    return np.array([1/laser_scan_max_range, 1/laser_scan_fov_deg, beta])\n",
    "\n",
    "df_agg = dict()\n",
    "\n",
    "printmd(\"### Model from aggregated datapoints\")\n",
    "printmd(f\"{'slam_node':>20} | {'r2_agg':>7} | {'r2_all':>7}\")\n",
    "for slam_node in df.slam_node.unique():\n",
    "    \n",
    "    df_agg[slam_node] = df[df.slam_node == slam_node].groupby(model_features).mean()[output_metric.name]\n",
    "    \n",
    "    X_agg = features_transform(*np.array(list(df_agg[slam_node].index.values)).T).T\n",
    "    y_agg = df_agg[slam_node].values\n",
    "\n",
    "    X_all = features_transform(*np.array(list(df[df.slam_node == slam_node].model_features)).T).T\n",
    "    y_all = df[df.slam_node == slam_node][output_metric.name]\n",
    "    \n",
    "    model_agg[slam_node] = make_pipeline(StandardScaler(), PolynomialFeatures(num_polynomial_features, interaction_only=False), LinearRegression())\n",
    "    model_agg[slam_node].fit(X_agg, y_agg);\n",
    "\n",
    "    y_pred_agg = model_agg[slam_node].predict(X_agg)\n",
    "    r2_agg = r2_score(y_agg, y_pred_agg)\n",
    "    \n",
    "    y_pred_all = model_agg[slam_node].predict(X_all)\n",
    "    r2_all = r2_score(y_all, y_pred_all)\n",
    "\n",
    "    printmd(f\"{slam_node:>20} | {r2_agg:+0.4f} | {r2_all:+0.4f}\")\n",
    "\n",
    "printmd(\"### Model from all datapoints\")\n",
    "printmd(f\"{'slam_node':>20} | {'r2_agg':>7} | {'r2_all':>7}\")\n",
    "\n",
    "df_10 = df.sample(n=int(len(df)/10.0), random_state=0)\n",
    "\n",
    "for slam_node in df.slam_node.unique():\n",
    "    \n",
    "\n",
    "    df_agg[slam_node] = df[df.slam_node == slam_node].groupby(model_features).mean()[output_metric.name]\n",
    "\n",
    "    X_agg = features_transform(*np.array(list(df_agg[slam_node].index.values)).T).T\n",
    "    y_agg = df_agg[slam_node].values\n",
    "\n",
    "    X_all = features_transform(*np.array(list(df_10[df_10.slam_node == slam_node].model_features)).T).T\n",
    "    y_all = df_10[df_10.slam_node == slam_node][output_metric.name]\n",
    "\n",
    "    model_all[slam_node] = make_pipeline(StandardScaler(), PolynomialFeatures(num_polynomial_features, interaction_only=True), LinearRegression())\n",
    "    model_all[slam_node].fit(X_all, y_all);\n",
    "\n",
    "    y_pred_agg = model_all[slam_node].predict(X_agg)\n",
    "    r2_agg = r2_score(y_agg, y_pred_agg)\n",
    "\n",
    "    y_pred_all = model_all[slam_node].predict(X_all)\n",
    "    r2_all = r2_score(y_all, y_pred_all)\n",
    "\n",
    "    printmd(f\"{slam_node:>20} | {r2_agg:+0.4f} | {r2_all:+0.4f}\")"
   ]
  },
  {
   "cell_type": "code",
   "execution_count": 6,
   "metadata": {},
   "outputs": [],
   "source": [
    "model = model_all"
   ]
  },
  {
   "cell_type": "code",
   "execution_count": 7,
   "metadata": {
    "scrolled": true
   },
   "outputs": [],
   "source": [
    "df_subsampled = df.sample(n=int(len(df)/1.0), random_state=0)"
   ]
  },
  {
   "cell_type": "code",
   "execution_count": 8,
   "metadata": {
    "scrolled": false
   },
   "outputs": [
    {
     "data": {
      "application/vnd.jupyter.widget-view+json": {
       "model_id": "9c9e016589574e50862723a4e01e34a5",
       "version_major": 2,
       "version_minor": 0
      },
      "text/plain": [
       "interactive(children=(SelectionSlider(description='laser_scan_fov_deg:', options=(90, 180, 270, 359), value=90…"
      ]
     },
     "metadata": {},
     "output_type": "display_data"
    }
   ],
   "source": [
    "import matplotlib.pyplot as plt\n",
    "# %matplotlib inline\n",
    "\n",
    "n = 100\n",
    "def plot_func(laser_scan_fov_deg, beta):\n",
    "    \n",
    "    plt.figure(figsize=1.5*np.array([5, 5]))\n",
    "    \n",
    "    laser_scan_fov_deg_ls = np.array([laser_scan_fov_deg]*n)\n",
    "    beta_ls = np.array([beta]*n)\n",
    "\n",
    "    laser_scan_max_range_ls = np.linspace(df.laser_scan_max_range.min(), df.laser_scan_max_range.max(), n)\n",
    "    laser_scan_max_range_values = df.laser_scan_max_range.unique()\n",
    "\n",
    "    X = features_transform(*np.array([laser_scan_max_range_ls, laser_scan_fov_deg_ls, beta_ls])).T\n",
    "\n",
    "    for slam_node in df.slam_node.unique():\n",
    "        y_predict = model[slam_node].predict(X)\n",
    "        plt.plot(laser_scan_max_range_ls, y_predict, linewidth=3, color=slam_node_colors[slam_node], label=f\"{slam_node}, pred\")\n",
    "\n",
    "        df_plot = df[(df.slam_node == slam_node) & \n",
    "                     (df.laser_scan_fov_deg == laser_scan_fov_deg) & \n",
    "                     (df.beta == beta)\n",
    "                    ].groupby(df.laser_scan_max_range)[output_metric.name].mean()\n",
    "        plt.plot(df_plot.index, df_plot, '--o', color=slam_node_colors[slam_node], label=f\"{slam_node}, data\")\n",
    "    plt.xlim([df.laser_scan_max_range.min(), df.laser_scan_max_range.max()])\n",
    "    plt.ylim([0.0, 1.0])\n",
    "    plt.xlabel(\"laser scan max range\")\n",
    "    plt.ylabel(f\"{output_metric.name.replace('_', ' ')}\")\n",
    "    plt.legend()\n",
    "    plt.grid()\n",
    "    plt.show()\n",
    "\n",
    "interact(plot_func, \n",
    "         laser_scan_fov_deg=widgets.SelectionSlider(\n",
    "             options=sorted(list(df.laser_scan_fov_deg.unique())),\n",
    "             value=df.laser_scan_fov_deg.min(),\n",
    "             description='laser_scan_fov_deg:',\n",
    "             disabled=False,\n",
    "             continuous_update=True,\n",
    "             orientation='horizontal',\n",
    "             readout=True\n",
    "         ),\n",
    "         beta=widgets.SelectionSlider(\n",
    "             options=sorted(list(df.beta.unique())),\n",
    "             value=df.beta.min(),\n",
    "             description='beta:',\n",
    "             disabled=False,\n",
    "             continuous_update=True,\n",
    "             orientation='horizontal',\n",
    "             readout=True\n",
    "         ),\n",
    ");"
   ]
  },
  {
   "cell_type": "code",
   "execution_count": 9,
   "metadata": {},
   "outputs": [
    {
     "data": {
      "application/vnd.jupyter.widget-view+json": {
       "model_id": "cf81032e924d495da2963890a719a5fa",
       "version_major": 2,
       "version_minor": 0
      },
      "text/plain": [
       "interactive(children=(SelectionSlider(description='laser_scan_max_range:', options=(3.5, 8.0, 15.0, 30.0), val…"
      ]
     },
     "metadata": {},
     "output_type": "display_data"
    }
   ],
   "source": [
    "import matplotlib.pyplot as plt\n",
    "%matplotlib inline\n",
    "\n",
    "n = 100\n",
    "def plot_func(laser_scan_max_range, beta):\n",
    "    \n",
    "    plt.figure(figsize=1.5*np.array([5, 5]))\n",
    "    \n",
    "    laser_scan_max_range_ls = np.array([laser_scan_max_range]*n)\n",
    "    beta_ls = np.array([beta]*n)\n",
    "\n",
    "    laser_scan_fov_deg_ls = np.linspace(df.laser_scan_fov_deg.min(), df.laser_scan_fov_deg.max(), n)\n",
    "    laser_scan_fov_deg_values = df.laser_scan_fov_deg.unique()\n",
    "\n",
    "    X = features_transform(*np.array([laser_scan_max_range_ls, laser_scan_fov_deg_ls, beta_ls])).T\n",
    "\n",
    "    for slam_node in df.slam_node.unique():\n",
    "        y_predict = model[slam_node].predict(X)\n",
    "        plt.plot(laser_scan_fov_deg_ls, y_predict, linewidth=3, color=slam_node_colors[slam_node], label=f\"{slam_node}, pred\")\n",
    "\n",
    "        df_plot = df[(df.slam_node == slam_node) & \n",
    "                     (df.laser_scan_max_range == laser_scan_max_range) & \n",
    "                     (df.beta == beta)\n",
    "                    ].groupby(df.laser_scan_fov_deg)[output_metric.name].mean()\n",
    "        plt.plot(df_plot.index, df_plot, '--o', color=slam_node_colors[slam_node], label=f\"{slam_node}, data\")\n",
    "        df_plot_subsampled = df_subsampled[(df_subsampled.slam_node == slam_node) & \n",
    "                     (df_subsampled.laser_scan_max_range == laser_scan_max_range) & \n",
    "                     (df_subsampled.beta == beta)\n",
    "                    ]\n",
    "        plt.scatter(df_plot_subsampled.laser_scan_fov_deg, df_plot_subsampled[output_metric.name], label=f\"{slam_node}, datapoints\", marker='_')\n",
    "    plt.xlim([df.laser_scan_fov_deg.min(), df.laser_scan_fov_deg.max()])\n",
    "    plt.ylim([0.0, 1.0])\n",
    "    plt.xlabel(\"laser_scan_fov_deg\")\n",
    "    plt.ylabel(f\"{output_metric.name.replace('_', ' ')}\")\n",
    "    plt.legend()\n",
    "    plt.grid()\n",
    "    plt.show()\n",
    "\n",
    "interact(plot_func, \n",
    "         laser_scan_max_range=widgets.SelectionSlider(\n",
    "             options=sorted(list(df.laser_scan_max_range.unique())),\n",
    "             value=df.laser_scan_max_range.min(),\n",
    "             description='laser_scan_max_range:',\n",
    "             disabled=False,\n",
    "             continuous_update=True,\n",
    "             orientation='horizontal',\n",
    "             readout=True\n",
    "         ),\n",
    "         beta=widgets.SelectionSlider(\n",
    "             options=sorted(list(df.beta.unique())),\n",
    "             value=df.beta.min(),\n",
    "             description='beta:',\n",
    "             disabled=False,\n",
    "             continuous_update=True,\n",
    "             orientation='horizontal',\n",
    "             readout=True\n",
    "         ),\n",
    "\n",
    ");"
   ]
  },
  {
   "cell_type": "code",
   "execution_count": 10,
   "metadata": {},
   "outputs": [
    {
     "data": {
      "application/vnd.jupyter.widget-view+json": {
       "model_id": "8770d59a6f94461a9f3e6c5261e12156",
       "version_major": 2,
       "version_minor": 0
      },
      "text/plain": [
       "interactive(children=(SelectionSlider(description='laser_scan_max_range:', options=(3.5, 8.0, 15.0, 30.0), val…"
      ]
     },
     "metadata": {},
     "output_type": "display_data"
    }
   ],
   "source": [
    "import matplotlib.pyplot as plt\n",
    "%matplotlib inline\n",
    "\n",
    "n = 100\n",
    "def plot_func(laser_scan_max_range, laser_scan_fov_deg):\n",
    "    \n",
    "    plt.figure(figsize=1.5*np.array([5, 5]))\n",
    "    \n",
    "    laser_scan_max_range_ls = np.array([laser_scan_max_range]*n)\n",
    "    laser_scan_fov_deg_ls = np.array([laser_scan_fov_deg]*n)\n",
    "\n",
    "    beta_ls = np.linspace(df.beta.min(), df.beta.max(), n)\n",
    "    beta_values = df.beta.unique()\n",
    "\n",
    "    X = features_transform(*np.array([laser_scan_max_range_ls, laser_scan_fov_deg_ls, beta_ls])).T\n",
    "\n",
    "    for slam_node in df.slam_node.unique():\n",
    "        y_predict = model[slam_node].predict(X)\n",
    "        plt.plot(beta_ls, y_predict, linewidth=3, color=slam_node_colors[slam_node], label=f\"{slam_node}, pred\")\n",
    "\n",
    "        df_plot = df[(df.slam_node == slam_node) & \n",
    "                     (df.laser_scan_max_range == laser_scan_max_range) & \n",
    "                     (df.laser_scan_fov_deg == laser_scan_fov_deg)\n",
    "                    ].groupby(df.beta)[output_metric.name].mean()\n",
    "        plt.plot(df_plot.index, df_plot, '--o', color=slam_node_colors[slam_node], label=f\"{slam_node}, data\")\n",
    "        \n",
    "        df_plot_subsampled = df_subsampled[(df_subsampled.slam_node == slam_node) & \n",
    "                     (df_subsampled.laser_scan_max_range == laser_scan_max_range) & \n",
    "                     (df_subsampled.laser_scan_fov_deg == laser_scan_fov_deg)\n",
    "                    ]\n",
    "        plt.scatter(df_plot_subsampled.beta, df_plot_subsampled[output_metric.name], label=f\"{slam_node}, datapoints\", marker='_')\n",
    "    plt.xlim([df.beta.min(), df.beta.max()])\n",
    "    plt.ylim([0.0, 1.0])\n",
    "    plt.xlabel(\"beta\")\n",
    "    plt.ylabel(f\"{output_metric.name.replace('_', ' ')}\")\n",
    "    plt.legend()\n",
    "    plt.grid()\n",
    "    plt.show()\n",
    "\n",
    "interact(plot_func, \n",
    "         laser_scan_max_range=widgets.SelectionSlider(\n",
    "             options=sorted(list(df.laser_scan_max_range.unique())),\n",
    "             value=df.laser_scan_max_range.min(),\n",
    "             description='laser_scan_max_range:',\n",
    "             disabled=False,\n",
    "             continuous_update=True,\n",
    "             orientation='horizontal',\n",
    "             readout=True\n",
    "         ),\n",
    "         laser_scan_fov_deg=widgets.SelectionSlider(\n",
    "             options=sorted(list(df.laser_scan_fov_deg.unique())),\n",
    "             value=df.laser_scan_fov_deg.min(),\n",
    "             description='laser_scan_fov_deg:',\n",
    "             disabled=False,\n",
    "             continuous_update=True,\n",
    "             orientation='horizontal',\n",
    "             readout=True\n",
    "         ),\n",
    ");"
   ]
  }
 ],
 "metadata": {
  "kernelspec": {
   "display_name": "Python 3",
   "language": "python",
   "name": "python3"
  },
  "language_info": {
   "codemirror_mode": {
    "name": "ipython",
    "version": 3
   },
   "file_extension": ".py",
   "mimetype": "text/x-python",
   "name": "python",
   "nbconvert_exporter": "python",
   "pygments_lexer": "ipython3",
   "version": "3.8.10"
  }
 },
 "nbformat": 4,
 "nbformat_minor": 4
}
