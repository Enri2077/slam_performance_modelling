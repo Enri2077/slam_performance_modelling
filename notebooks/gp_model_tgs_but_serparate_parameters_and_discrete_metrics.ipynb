{
 "cells": [
  {
   "cell_type": "code",
   "execution_count": 1,
   "metadata": {},
   "outputs": [
    {
     "data": {
      "text/html": [
       "<style>.container { width:100% !important; }</style>"
      ],
      "text/plain": [
       "<IPython.core.display.HTML object>"
      ]
     },
     "metadata": {},
     "output_type": "display_data"
    }
   ],
   "source": [
    "from IPython.core.display import Markdown, display, HTML\n",
    "display(HTML(\"<style>.container { width:100% !important; }</style>\"))\n",
    "import ipywidgets as widgets\n",
    "from ipywidgets import interact, interact_manual\n",
    "\n",
    "import traceback\n",
    "import numpy as np\n",
    "import scipy.stats as ss\n",
    "import itertools\n",
    "from os import path\n",
    "import pickle\n",
    "from sklearn.linear_model import LinearRegression, TheilSenRegressor, RANSACRegressor, HuberRegressor\n",
    "from sklearn.metrics import mean_squared_error, r2_score\n",
    "from sklearn.preprocessing import PolynomialFeatures, StandardScaler\n",
    "from sklearn.pipeline import make_pipeline\n",
    "import sklearn.gaussian_process as gp\n",
    "\n",
    "import matplotlib.pyplot as plt\n",
    "plt.rcParams['figure.figsize'] = [13, 13]\n",
    "\n",
    "import pandas as pd\n",
    "pd.options.display.width = 500\n",
    "\n",
    "slam_node_colors = {'gmapping': 'orange', 'slam_toolbox': 'blue', 'hector_slam': 'cyan'}\n"
   ]
  },
  {
   "cell_type": "code",
   "execution_count": 2,
   "metadata": {},
   "outputs": [],
   "source": [
    "def load_cache(file_path):\n",
    "    with open(path.expanduser(file_path), 'rb') as f:\n",
    "        cache_dict = pickle.load(f)\n",
    "        return cache_dict['df']\n",
    "\n",
    "def printmd(*args):\n",
    "    display(Markdown(' '.join(map(str, args))))"
   ]
  },
  {
   "cell_type": "code",
   "execution_count": 3,
   "metadata": {
    "scrolled": false
   },
   "outputs": [
    {
     "data": {
      "text/markdown": [
       "## Parameters and Their Values"
      ],
      "text/plain": [
       "<IPython.core.display.Markdown object>"
      ]
     },
     "metadata": {},
     "output_type": "display_data"
    },
    {
     "data": {
      "text/markdown": [
       "               laser_scan_max_range [3.5, 8.0, 15.0, 30.0]"
      ],
      "text/plain": [
       "<IPython.core.display.Markdown object>"
      ]
     },
     "metadata": {},
     "output_type": "display_data"
    },
    {
     "data": {
      "text/markdown": [
       "                 laser_scan_fov_deg [90, 180, 270, 359]"
      ],
      "text/plain": [
       "<IPython.core.display.Markdown object>"
      ]
     },
     "metadata": {},
     "output_type": "display_data"
    },
    {
     "data": {
      "text/markdown": [
       "                               beta [0.0, 0.5, 1.0, 1.5, 2.0]"
      ],
      "text/plain": [
       "<IPython.core.display.Markdown object>"
      ]
     },
     "metadata": {},
     "output_type": "display_data"
    },
    {
     "data": {
      "text/markdown": [
       "                         start_time [0, 1, 2, 3, 4, 5, 6, 7, 8, 9]"
      ],
      "text/plain": [
       "<IPython.core.display.Markdown object>"
      ]
     },
     "metadata": {},
     "output_type": "display_data"
    },
    {
     "data": {
      "text/markdown": [
       "      accumulated_trajectory_length [0, 1, 2, 3, 4]"
      ],
      "text/plain": [
       "<IPython.core.display.Markdown object>"
      ]
     },
     "metadata": {},
     "output_type": "display_data"
    },
    {
     "data": {
      "text/markdown": [
       "                                tgs [0, 1, 2, 3, 4, 5, 6, 7, 8, 9, 10, 11, 12, 13, 14, 15, 16, 17, 18, 19]"
      ],
      "text/plain": [
       "<IPython.core.display.Markdown object>"
      ]
     },
     "metadata": {},
     "output_type": "display_data"
    },
    {
     "data": {
      "text/markdown": [
       "                                lvr [0.0, 1.0, 2.0, 3.0, 4.0, 5.0, 6.0, 7.0, 8.0, 9.0]"
      ],
      "text/plain": [
       "<IPython.core.display.Markdown object>"
      ]
     },
     "metadata": {},
     "output_type": "display_data"
    },
    {
     "data": {
      "text/markdown": [
       "                          slam_node ['gmapping', 'slam_toolbox']"
      ],
      "text/plain": [
       "<IPython.core.display.Markdown object>"
      ]
     },
     "metadata": {},
     "output_type": "display_data"
    },
    {
     "data": {
      "text/markdown": [
       "                   environment_name ['7A-2', 'airlab', 'fr079', 'office_b']"
      ],
      "text/plain": [
       "<IPython.core.display.Markdown object>"
      ]
     },
     "metadata": {},
     "output_type": "display_data"
    }
   ],
   "source": [
    "# load data from cache and rename columns\n",
    "df_new_config = load_cache(\"/home/enrico/ds/performance_modelling/output/slam_new_config/run_data_per_waypoint_cache.pkl\")\n",
    "df_many_odoms = load_cache(\"/home/enrico/ds/performance_modelling/output/slam_many_odoms/run_data_per_waypoint_cache.pkl\")\n",
    "df = df_new_config.append(df_many_odoms, ignore_index=True, sort=False)\n",
    "\n",
    "df.rename(inplace=True, columns={\n",
    "    'trajectory_length_trajectory_length': 'trajectory_length',\n",
    "    'waypoint_relative_localization_error_translation_error_final': 'translation_error',\n",
    "    'waypoint_absolute_localization_error_absolute_translation_error_start': 'absolute_translation_error',\n",
    "    'waypoint_relative_localization_error_rotation_error_final': 'rotation_error',\n",
    "    'geometric_similarity_sensor_mean_of_translation_eigenvalues_ratio_all': 'tgs_cont',\n",
    "    'lidar_visibility_mean_visible_ranges_ratio': 'lvr_cont',\n",
    "    'waypoint_start_time': 'start_time_cont',\n",
    "})\n",
    "\n",
    "# refactor and extract additional parameters and metrics\n",
    "df['linear_update'] = df['linear_angular_update'].apply(lambda x: x[0])\n",
    "df['beta'] = df['beta'].apply(lambda x: max(x))\n",
    "df['norm_translation_error'] = df.translation_error / df.trajectory_length\n",
    "df['run_id'] = df['run_folder'].apply(lambda x: path.basename(x))\n",
    "df['waypoint_index'] = df.sort_values('start_time_cont').groupby(df.run_id).cumcount()\n",
    "df['accumulated_trajectory_length_cont'] = df.sort_values('start_time_cont').groupby(df.run_id).trajectory_length.cumsum() - df.trajectory_length\n",
    "df['session_id'] =  df['run_id'].apply(lambda x:  x.split('_')[1]+'_'+x.split('_')[2]+'_'+x.split('_')[3])\n",
    "df['run_number'] =  df['run_id'].apply(lambda x:  int(x.split('_')[5]))\n",
    "df['p'] = df.translation_error.apply(lambda x: x > 0.2)\n",
    "\n",
    "# discretize continuous input metrics\n",
    "df['tgs'] = pd.cut(df.tgs_cont, 20, labels=False)\n",
    "df['lvr'] = pd.cut(df.lvr_cont, 10, labels=False)\n",
    "df['start_time'] = pd.cut(df.start_time_cont, 10, labels=False)\n",
    "df['accumulated_trajectory_length'] = pd.cut(df.accumulated_trajectory_length_cont, 5, labels=False)\n",
    "\n",
    "# drop unnecessary datapoints\n",
    "# df = df[(\n",
    "#     ((df.slam_node == 'gmapping') | (df.slam_node == 'slam_toolbox')) & (df.linear_update == 0.5) #|\n",
    "# #     (df.slam_node == 'hector_slam') & (df.linear_update == 0.4)\n",
    "# )]\n",
    "df = df[((df.slam_node == 'gmapping') | (df.slam_node == 'slam_toolbox')) & (df.linear_update == 0.5)]\n",
    "df = df[df.trajectory_length > 1]\n",
    "df = df[df.absolute_translation_error < 5]\n",
    "\n",
    "# only keep necessary columns\n",
    "robot_parameters = [\n",
    "    'laser_scan_max_range',\n",
    "    'laser_scan_fov_deg',\n",
    "    'beta',\n",
    "]\n",
    "other_parameters = [\n",
    "    'run_absolute_start_time',\n",
    "    'session_id',\n",
    "    'run_number',\n",
    "    'run_id',\n",
    "    'slam_node',\n",
    "    'environment_name',\n",
    "]\n",
    "input_discretized_metrics = [\n",
    "    'start_time',\n",
    "    'accumulated_trajectory_length',\n",
    "    'tgs',\n",
    "    'lvr',\n",
    "]\n",
    "input_continuous_metrics = [\n",
    "    'waypoint_index',\n",
    "    'start_time_cont',\n",
    "    'tgs_cont',\n",
    "    'lvr_cont',\n",
    "]\n",
    "output_metrics = [\n",
    "    'norm_translation_error',\n",
    "    'absolute_translation_error',\n",
    "    'p',\n",
    "]\n",
    "df = df[\n",
    "    robot_parameters +\n",
    "    other_parameters +\n",
    "    input_discretized_metrics +\n",
    "    input_continuous_metrics +\n",
    "    output_metrics\n",
    "]\n",
    "\n",
    "mrs = sorted(list(df.laser_scan_max_range.unique()))\n",
    "fovs = sorted(list(df.laser_scan_fov_deg.unique()))\n",
    "betas = sorted(list(df.beta.unique()))\n",
    "betas_fovs = list(itertools.product(betas, fovs))\n",
    "\n",
    "printmd(\"## Parameters and Their Values\")\n",
    "for c in robot_parameters + input_discretized_metrics + ['slam_node', 'environment_name',]:\n",
    "    printmd(\"{:>35}\".format(c), sorted(list(df[c].unique())))"
   ]
  },
  {
   "cell_type": "code",
   "execution_count": 4,
   "metadata": {
    "scrolled": true
   },
   "outputs": [
    {
     "name": "stderr",
     "output_type": "stream",
     "text": [
      "/home/enrico/.local/lib/python3.8/site-packages/sklearn/gaussian_process/kernels.py:402: ConvergenceWarning: The optimal value found for dimension 0 of parameter sigma_0 is close to the specified lower bound 1e-100. Decreasing the bound and calling fit again may find a better value.\n",
      "  warnings.warn(\"The optimal value found for \"\n",
      "/home/enrico/.local/lib/python3.8/site-packages/sklearn/gaussian_process/kernels.py:402: ConvergenceWarning: The optimal value found for dimension 0 of parameter sigma_0 is close to the specified lower bound 1e-100. Decreasing the bound and calling fit again may find a better value.\n",
      "  warnings.warn(\"The optimal value found for \"\n"
     ]
    },
    {
     "name": "stdout",
     "output_type": "stream",
     "text": [
      "min     0.000009\n",
      "max     0.182005\n",
      "mean    0.040835\n",
      "Name: r2, dtype: float64\n"
     ]
    }
   ],
   "source": [
    "num_polynomial_features = 1\n",
    "output_metric = df.norm_translation_error\n",
    "\n",
    "model_all = dict()\n",
    "model_r2 = pd.DataFrame(columns=[\"slam_node\", \"laser_scan_max_range\", \"laser_scan_fov_deg\", \"beta\", \"r2\"])\n",
    "\n",
    "df['robot_parameters'] = list(zip(df.laser_scan_max_range, df.laser_scan_fov_deg, df.beta))\n",
    "params = df['robot_parameters'].unique()\n",
    "\n",
    "for slam_node in df.slam_node.unique():\n",
    "    model_all[slam_node] = dict()\n",
    "    for mr, fov, beta in params:\n",
    "\n",
    "        df_all = df[(df.slam_node == slam_node) & (df.laser_scan_max_range == mr) & (df.laser_scan_fov_deg == fov) & (df.beta == beta)]\n",
    "        n_sample = int(len(df_all)/10)\n",
    "        df_all = df_all.sample(n=n_sample, random_state=0)\n",
    "        X_all = df_all.tgs.values.reshape(-1, 1)\n",
    "        y_all = df_all[output_metric.name].values\n",
    "\n",
    "        kernel = gp.kernels.DotProduct(sigma_0=1.0, sigma_0_bounds=(1e-100, 100000.0))\n",
    "        gp_model = gp.GaussianProcessRegressor(kernel=kernel, n_restarts_optimizer=10, alpha=0.1, normalize_y=False)\n",
    "        model_all[slam_node][(mr, fov, beta)] = make_pipeline(StandardScaler(), PolynomialFeatures(num_polynomial_features, interaction_only=False), gp_model)\n",
    "        model_all[slam_node][(mr, fov, beta)].fit(X_all, y_all);\n",
    "\n",
    "        y_pred_all = model_all[slam_node][(mr, fov, beta)].predict(X_all)\n",
    "        r2_all = r2_score(y_all, y_pred_all)\n",
    "\n",
    "#         printmd(f\"{slam_node:>20} | {r2_all:+0.4f}\")\n",
    "        model_r2 = model_r2.append({\"slam_node\": slam_node, \"laser_scan_max_range\": mr, \"laser_scan_fov_deg\": fov, \"beta\": beta, \"r2\": r2_all}, ignore_index=True )\n",
    "\n",
    "model = model_all\n",
    "\n",
    "print(model_r2.r2.agg([\"min\", \"max\", \"mean\"]))\n"
   ]
  },
  {
   "cell_type": "code",
   "execution_count": 5,
   "metadata": {},
   "outputs": [],
   "source": [
    "# TODO: clean up and check mr: 8, fov: 90, beta: 2, tgs: 0\n",
    "# TODO: train on tgs for each combination of robot params"
   ]
  },
  {
   "cell_type": "code",
   "execution_count": 6,
   "metadata": {},
   "outputs": [
    {
     "data": {
      "application/vnd.jupyter.widget-view+json": {
       "model_id": "dc9a68b324c04ee2976013b8b9ef1799",
       "version_major": 2,
       "version_minor": 0
      },
      "text/plain": [
       "interactive(children=(SelectionSlider(description='laser_scan_max_range:', options=(3.5, 8.0, 15.0, 30.0), val…"
      ]
     },
     "metadata": {},
     "output_type": "display_data"
    }
   ],
   "source": [
    "import matplotlib.pyplot as plt\n",
    "%matplotlib inline\n",
    "\n",
    "n = 100\n",
    "def plot_func(laser_scan_max_range, laser_scan_fov_deg, beta):\n",
    "    plt.figure(figsize=1.5*np.array([5, 5]))\n",
    "\n",
    "    for slam_node in df.slam_node.unique():\n",
    "   \n",
    "        if (laser_scan_max_range, laser_scan_fov_deg, beta) in model[slam_node]:\n",
    "        \n",
    "\n",
    "            tgs_ls = np.linspace(df.tgs.min(), df.tgs.max(), n)\n",
    "            tgs_values = df.tgs.unique()\n",
    "            X = tgs_ls.reshape(-1, 1)\n",
    "\n",
    "            y_predict, y_std  = model[slam_node][(laser_scan_max_range, laser_scan_fov_deg, beta)].predict(X, return_std=True)\n",
    "            plt.plot(tgs_ls, y_predict, linewidth=3, color=slam_node_colors[slam_node], label=f\"{slam_node}, pred\")\n",
    "            plt.fill_between(tgs_ls, y_predict-y_std, y_predict+y_std, color=slam_node_colors[slam_node], alpha=0.5, label=f\"{slam_node}, pred std\")\n",
    "            \n",
    "            df_plot = df[(df.slam_node == slam_node) & \n",
    "                         (df.laser_scan_max_range == laser_scan_max_range) & \n",
    "                         (df.laser_scan_fov_deg == laser_scan_fov_deg) & \n",
    "                         (df.beta == beta)\n",
    "                        ].groupby(df.tgs)[output_metric.name].mean()\n",
    "            plt.plot(df_plot.index, df_plot, '--o', color=slam_node_colors[slam_node], label=f\"{slam_node}, data\")\n",
    "            plt.legend()\n",
    "    plt.xlim([df.tgs.min(), df.tgs.max()])\n",
    "    plt.ylim([0.0, 0.7])\n",
    "    plt.xlabel(\"tgs\")\n",
    "    plt.ylabel(f\"{output_metric.name}\")\n",
    "    plt.grid()\n",
    "    plt.show()\n",
    "    print(model_r2[(model_r2.laser_scan_max_range == laser_scan_max_range) & (model_r2.laser_scan_fov_deg == laser_scan_fov_deg) & (model_r2.beta == beta)][[\"slam_node\", \"r2\"]])\n",
    "\n",
    "\n",
    "interact(plot_func, \n",
    "         laser_scan_max_range=widgets.SelectionSlider(\n",
    "             options=sorted(list(df.laser_scan_max_range.unique())),\n",
    "             value=df.laser_scan_max_range.min(),\n",
    "             description='laser_scan_max_range:',\n",
    "             disabled=False,\n",
    "             continuous_update=True,\n",
    "             orientation='horizontal',\n",
    "             readout=True\n",
    "         ),\n",
    "         laser_scan_fov_deg=widgets.SelectionSlider(\n",
    "             options=sorted(list(df.laser_scan_fov_deg.unique())),\n",
    "             value=df.laser_scan_fov_deg.min(),\n",
    "             description='laser_scan_fov_deg:',\n",
    "             disabled=False,\n",
    "             continuous_update=True,\n",
    "             orientation='horizontal',\n",
    "             readout=True\n",
    "         ),\n",
    "         beta=widgets.SelectionSlider(\n",
    "             options=sorted(list(df.beta.unique())),\n",
    "             value=df.beta.min(),\n",
    "             description='beta:',\n",
    "             disabled=False,\n",
    "             continuous_update=True,\n",
    "             orientation='horizontal',\n",
    "             readout=True\n",
    "         ),\n",
    "         \n",
    ");"
   ]
  }
 ],
 "metadata": {
  "kernelspec": {
   "display_name": "Python 3",
   "language": "python",
   "name": "python3"
  },
  "language_info": {
   "codemirror_mode": {
    "name": "ipython",
    "version": 3
   },
   "file_extension": ".py",
   "mimetype": "text/x-python",
   "name": "python",
   "nbconvert_exporter": "python",
   "pygments_lexer": "ipython3",
   "version": "3.8.10"
  }
 },
 "nbformat": 4,
 "nbformat_minor": 4
}
