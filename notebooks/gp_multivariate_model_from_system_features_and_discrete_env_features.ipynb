{
 "cells": [
  {
   "cell_type": "code",
   "execution_count": 1,
   "metadata": {},
   "outputs": [
    {
     "data": {
      "text/html": [
       "<style>.container { width:100% !important; }</style>"
      ],
      "text/plain": [
       "<IPython.core.display.HTML object>"
      ]
     },
     "metadata": {},
     "output_type": "display_data"
    }
   ],
   "source": [
    "from IPython.core.display import Markdown, display, HTML\n",
    "display(HTML(\"<style>.container { width:100% !important; }</style>\"))\n",
    "import ipywidgets as widgets\n",
    "from ipywidgets import interact, interact_manual\n",
    "\n",
    "import traceback\n",
    "import numpy as np\n",
    "import scipy.stats as ss\n",
    "import itertools\n",
    "from os import path\n",
    "import pickle\n",
    "from sklearn.linear_model import LinearRegression, TheilSenRegressor, RANSACRegressor, HuberRegressor\n",
    "from sklearn.metrics import mean_squared_error, r2_score\n",
    "from sklearn.preprocessing import PolynomialFeatures, StandardScaler\n",
    "from sklearn.pipeline import make_pipeline\n",
    "import sklearn.gaussian_process as gp\n",
    "\n",
    "import matplotlib.pyplot as plt\n",
    "plt.rcParams['figure.figsize'] = [13, 13]\n",
    "\n",
    "import pandas as pd\n",
    "pd.options.display.width = 500\n",
    "\n",
    "slam_node_colors = {'gmapping': 'orange', 'slam_toolbox': 'blue', 'hector_slam': 'cyan'}\n"
   ]
  },
  {
   "cell_type": "code",
   "execution_count": 2,
   "metadata": {},
   "outputs": [],
   "source": [
    "def load_cache(file_path):\n",
    "    with open(path.expanduser(file_path), 'rb') as f:\n",
    "        cache_dict = pickle.load(f)\n",
    "        return cache_dict['df']\n",
    "\n",
    "def printmd(*args):\n",
    "    display(Markdown(' '.join(map(str, args))))"
   ]
  },
  {
   "cell_type": "code",
   "execution_count": 3,
   "metadata": {
    "scrolled": false
   },
   "outputs": [
    {
     "data": {
      "text/markdown": [
       "## Parameters and Their Values"
      ],
      "text/plain": [
       "<IPython.core.display.Markdown object>"
      ]
     },
     "metadata": {},
     "output_type": "display_data"
    },
    {
     "data": {
      "text/markdown": [
       "               laser_scan_max_range [3.5, 8.0, 15.0, 30.0]"
      ],
      "text/plain": [
       "<IPython.core.display.Markdown object>"
      ]
     },
     "metadata": {},
     "output_type": "display_data"
    },
    {
     "data": {
      "text/markdown": [
       "                 laser_scan_fov_deg [90, 180, 270, 359]"
      ],
      "text/plain": [
       "<IPython.core.display.Markdown object>"
      ]
     },
     "metadata": {},
     "output_type": "display_data"
    },
    {
     "data": {
      "text/markdown": [
       "                               beta [0.0, 0.5, 1.0, 1.5, 2.0]"
      ],
      "text/plain": [
       "<IPython.core.display.Markdown object>"
      ]
     },
     "metadata": {},
     "output_type": "display_data"
    },
    {
     "data": {
      "text/markdown": [
       "                         start_time [0, 1, 2, 3, 4, 5, 6, 7, 8, 9]"
      ],
      "text/plain": [
       "<IPython.core.display.Markdown object>"
      ]
     },
     "metadata": {},
     "output_type": "display_data"
    },
    {
     "data": {
      "text/markdown": [
       "      accumulated_trajectory_length [0, 1, 2, 3, 4]"
      ],
      "text/plain": [
       "<IPython.core.display.Markdown object>"
      ]
     },
     "metadata": {},
     "output_type": "display_data"
    },
    {
     "data": {
      "text/markdown": [
       "                                tgs [0, 1, 2, 3, 4]"
      ],
      "text/plain": [
       "<IPython.core.display.Markdown object>"
      ]
     },
     "metadata": {},
     "output_type": "display_data"
    },
    {
     "data": {
      "text/markdown": [
       "                                lvr [0.0, 1.0, 2.0, 3.0, 4.0, 5.0, 6.0, 7.0, 8.0, 9.0]"
      ],
      "text/plain": [
       "<IPython.core.display.Markdown object>"
      ]
     },
     "metadata": {},
     "output_type": "display_data"
    },
    {
     "data": {
      "text/markdown": [
       "                          slam_node ['gmapping', 'slam_toolbox']"
      ],
      "text/plain": [
       "<IPython.core.display.Markdown object>"
      ]
     },
     "metadata": {},
     "output_type": "display_data"
    },
    {
     "data": {
      "text/markdown": [
       "                   environment_name ['7A-2', 'airlab', 'fr079', 'office_b']"
      ],
      "text/plain": [
       "<IPython.core.display.Markdown object>"
      ]
     },
     "metadata": {},
     "output_type": "display_data"
    }
   ],
   "source": [
    "# load data from cache and rename columns\n",
    "df_new_config = load_cache(\"/home/enrico/ds/performance_modelling/output/slam_new_config/run_data_per_waypoint_cache.pkl\")\n",
    "df_many_odoms = load_cache(\"/home/enrico/ds/performance_modelling/output/slam_many_odoms/run_data_per_waypoint_cache.pkl\")\n",
    "df = df_new_config.append(df_many_odoms, ignore_index=True, sort=False)\n",
    "\n",
    "df.rename(inplace=True, columns={\n",
    "    'trajectory_length_trajectory_length': 'trajectory_length',\n",
    "    'waypoint_relative_localization_error_translation_error_final': 'translation_error',\n",
    "    'waypoint_absolute_localization_error_absolute_translation_error_start': 'absolute_translation_error',\n",
    "    'waypoint_relative_localization_error_rotation_error_final': 'rotation_error',\n",
    "    'geometric_similarity_sensor_mean_of_translation_eigenvalues_ratio_all': 'tgs_cont',\n",
    "    'lidar_visibility_mean_visible_ranges_ratio': 'lvr_cont',\n",
    "    'waypoint_start_time': 'start_time_cont',\n",
    "})\n",
    "\n",
    "# refactor and extract additional parameters and metrics\n",
    "df['linear_update'] = df['linear_angular_update'].apply(lambda x: x[0])\n",
    "df['beta'] = df['beta'].apply(lambda x: max(x))\n",
    "df['norm_translation_error'] = df.translation_error / df.trajectory_length\n",
    "df['run_id'] = df['run_folder'].apply(lambda x: path.basename(x))\n",
    "df['waypoint_index'] = df.sort_values('start_time_cont').groupby(df.run_id).cumcount()\n",
    "df['accumulated_trajectory_length_cont'] = df.sort_values('start_time_cont').groupby(df.run_id).trajectory_length.cumsum() - df.trajectory_length\n",
    "df['session_id'] =  df['run_id'].apply(lambda x:  x.split('_')[1]+'_'+x.split('_')[2]+'_'+x.split('_')[3])\n",
    "df['run_number'] =  df['run_id'].apply(lambda x:  int(x.split('_')[5]))\n",
    "df['p'] = df.translation_error.apply(lambda x: x > 0.2)\n",
    "\n",
    "# discretize continuous input metrics\n",
    "df['tgs'] = pd.cut(df.tgs_cont, 5, labels=False)\n",
    "df['lvr'] = pd.cut(df.lvr_cont, 10, labels=False)\n",
    "df['start_time'] = pd.cut(df.start_time_cont, 10, labels=False)\n",
    "df['accumulated_trajectory_length'] = pd.cut(df.accumulated_trajectory_length_cont, 5, labels=False)\n",
    "\n",
    "# drop unnecessary datapoints\n",
    "# df = df[(\n",
    "#     ((df.slam_node == 'gmapping') | (df.slam_node == 'slam_toolbox')) & (df.linear_update == 0.5) #|\n",
    "# #     (df.slam_node == 'hector_slam') & (df.linear_update == 0.4)\n",
    "# )]\n",
    "df = df[((df.slam_node == 'gmapping') | (df.slam_node == 'slam_toolbox')) & (df.linear_update == 0.5)]\n",
    "df = df[df.trajectory_length > 1]\n",
    "df = df[df.absolute_translation_error < 5]\n",
    "\n",
    "# only keep necessary columns\n",
    "robot_parameters = [\n",
    "    'laser_scan_max_range',\n",
    "    'laser_scan_fov_deg',\n",
    "    'beta',\n",
    "]\n",
    "other_parameters = [\n",
    "    'run_absolute_start_time',\n",
    "    'session_id',\n",
    "    'run_number',\n",
    "    'run_id',\n",
    "    'slam_node',\n",
    "    'environment_name',\n",
    "]\n",
    "input_discretized_metrics = [\n",
    "    'start_time',\n",
    "    'accumulated_trajectory_length',\n",
    "    'tgs',\n",
    "    'lvr',\n",
    "]\n",
    "input_continuous_metrics = [\n",
    "    'waypoint_index',\n",
    "    'start_time_cont',\n",
    "    'tgs_cont',\n",
    "    'lvr_cont',\n",
    "]\n",
    "output_metrics = [\n",
    "    'norm_translation_error',\n",
    "    'absolute_translation_error',\n",
    "    'p',\n",
    "]\n",
    "df = df[\n",
    "    robot_parameters +\n",
    "    other_parameters +\n",
    "    input_discretized_metrics +\n",
    "    input_continuous_metrics +\n",
    "    output_metrics\n",
    "]\n",
    "\n",
    "mrs = sorted(list(df.laser_scan_max_range.unique()))\n",
    "fovs = sorted(list(df.laser_scan_fov_deg.unique()))\n",
    "betas = sorted(list(df.beta.unique()))\n",
    "betas_fovs = list(itertools.product(betas, fovs))\n",
    "\n",
    "printmd(\"## Parameters and Their Values\")\n",
    "for c in robot_parameters + input_discretized_metrics + ['slam_node', 'environment_name',]:\n",
    "    printmd(\"{:>35}\".format(c), sorted(list(df[c].unique())))"
   ]
  },
  {
   "cell_type": "code",
   "execution_count": 13,
   "metadata": {
    "scrolled": false
   },
   "outputs": [
    {
     "data": {
      "text/markdown": [
       "### Model from aggregated datapoints"
      ],
      "text/plain": [
       "<IPython.core.display.Markdown object>"
      ]
     },
     "metadata": {},
     "output_type": "display_data"
    },
    {
     "data": {
      "text/markdown": [
       "           slam_node |  r2_agg |  r2_all"
      ],
      "text/plain": [
       "<IPython.core.display.Markdown object>"
      ]
     },
     "metadata": {},
     "output_type": "display_data"
    },
    {
     "name": "stdout",
     "output_type": "stream",
     "text": [
      "876\n",
      "219\n",
      "872\n",
      "218\n"
     ]
    },
    {
     "data": {
      "application/vnd.jupyter.widget-view+json": {
       "model_id": "c13f0a8defdf45ba9a1bd532b98d800e",
       "version_major": 2,
       "version_minor": 0
      },
      "text/plain": [
       "interactive(children=(SelectionSlider(description='laser_scan_fov_deg:', index=1, options=(90, 180, 270, 359),…"
      ]
     },
     "metadata": {},
     "output_type": "display_data"
    },
    {
     "data": {
      "text/plain": [
       "<Figure size 540x540 with 0 Axes>"
      ]
     },
     "metadata": {},
     "output_type": "display_data"
    }
   ],
   "source": [
    "num_polynomial_features = 2\n",
    "output_metric = df.norm_translation_error\n",
    "\n",
    "model_agg = dict()\n",
    "model_all = dict()\n",
    "\n",
    "model_features = [\n",
    "    'laser_scan_max_range',\n",
    "    'laser_scan_fov_deg',\n",
    "    'beta',\n",
    "    'tgs',\n",
    "#     'accumulated_trajectory_length',\n",
    "]\n",
    "\n",
    "df['model_features'] = list(zip(df.laser_scan_max_range, df.laser_scan_fov_deg, df.beta, df.tgs))\n",
    "\n",
    "def features_transform(laser_scan_max_range, laser_scan_fov_deg, beta, tgs):\n",
    "    return np.array([1/laser_scan_max_range, 1/laser_scan_fov_deg, beta, tgs])\n",
    "\n",
    "# def features_transform(laser_scan_max_range, laser_scan_fov_deg, beta, tgs):\n",
    "#     return np.array([laser_scan_max_range, laser_scan_fov_deg, beta, tgs])\n",
    "\n",
    "def output_transform(y):\n",
    "    return np.log(np.array(y))\n",
    "\n",
    "df_agg = dict()\n",
    "\n",
    "printmd(\"### Model from aggregated datapoints\")\n",
    "printmd(f\"{'slam_node':>20} | {'r2_agg':>7} | {'r2_all':>7}\")\n",
    "for slam_node in df.slam_node.unique():\n",
    "    \n",
    "    df_agg[slam_node] = df[df.slam_node == slam_node].groupby(model_features).mean()[output_metric.name]\n",
    "    \n",
    "    X_agg = features_transform(*np.array(list(df_agg[slam_node].index.values)).T).T\n",
    "    y_agg = df_agg[slam_node].values\n",
    "    \n",
    "    print(X_agg.size)\n",
    "    print(y_agg.size)\n",
    "\n",
    "    # GP kernel\n",
    "    kernel = gp.kernels.DotProduct(sigma_0=1.0, sigma_0_bounds=(1e-100, 100000.0))\n",
    "#     kernel = gp.kernels.RationalQuadratic(length_scale=1.0, alpha=1.0, length_scale_bounds=(1e-05, 100000.0), alpha_bounds=(1e-05, 100000.0))\n",
    "\n",
    "    # GP model\n",
    "#     gp_model = gp.GaussianProcessRegressor(kernel=(1+kernel)**2, n_restarts_optimizer=10, alpha=0.1, normalize_y=False)\n",
    "    gp_model = gp.GaussianProcessRegressor(kernel=kernel, n_restarts_optimizer=10, alpha=0.1, normalize_y=False)\n",
    "    \n",
    "    model_agg[slam_node] = make_pipeline(StandardScaler(), PolynomialFeatures(num_polynomial_features, interaction_only=False), gp_model)\n",
    "#     model_agg[slam_node] = gp_model\n",
    "\n",
    "#     model_agg[slam_node] = make_pipeline(StandardScaler(), PolynomialFeatures(num_polynomial_features, interaction_only=False), LinearRegression())\n",
    "    model_agg[slam_node].fit(X_agg, y_agg);\n",
    "#     params = model_agg[slam_node].kernel_.get_params()\n",
    "\n",
    "    y_pred_agg = model_agg[slam_node].predict(X_agg)\n",
    "    r2_agg = r2_score(y_agg, y_pred_agg)\n",
    "    \n",
    "    printmd(f\"{slam_node:>20} | {r2_agg:+0.10f}\")\n",
    "\n",
    "\n",
    "# printmd(\"### Model from all datapoints\")\n",
    "# printmd(f\"{'slam_node':>20} | {'r2_agg':>7} | {'r2_all':>7}\")\n",
    "\n",
    "\n",
    "# df_10 = df.sample(n=int(len(df)/20.0), random_state=0)\n",
    "\n",
    "# for slam_node in df.slam_node.unique():\n",
    "\n",
    "#     df_agg[slam_node] = df[df.slam_node == slam_node].groupby(model_features).mean()[output_metric.name]\n",
    "\n",
    "#     X_agg = features_transform(*np.array(list(df_agg[slam_node].index.values)).T).T\n",
    "#     y_agg = df_agg[slam_node].values\n",
    "\n",
    "#     X_all = features_transform(*np.array(list(df_10[df_10.slam_node == slam_node].model_features)).T).T\n",
    "#     y_all = df_10[df_10.slam_node == slam_node][output_metric.name]\n",
    "\n",
    "#     # GP kernel\n",
    "#     kernel = gp.kernels.DotProduct(sigma_0=1.0, sigma_0_bounds=(1e-100, 100000.0))\n",
    "\n",
    "#     # GP model\n",
    "#     gp_model = gp.GaussianProcessRegressor(kernel=kernel, n_restarts_optimizer=10, alpha=0.1, normalize_y=False)\n",
    "    \n",
    "#     model_all[slam_node] = make_pipeline(StandardScaler(), PolynomialFeatures(num_polynomial_features, interaction_only=False), gp_model)\n",
    "#     model_all[slam_node].fit(X_all, y_all);\n",
    "\n",
    "#     y_pred_agg = model_all[slam_node].predict(X_agg)\n",
    "#     r2_agg = r2_score(y_agg, y_pred_agg)\n",
    "\n",
    "#     y_pred_all = model_all[slam_node].predict(X_all)\n",
    "#     r2_all = r2_score(y_all, y_pred_all)\n",
    "\n",
    "#     printmd(f\"{slam_node:>20} | {r2_agg:+0.10f} | {r2_all:+0.10f}\")\n",
    "\n",
    "\n",
    "# model = model_all\n",
    "\n",
    "\n",
    "import matplotlib.pyplot as plt\n",
    "# %matplotlib inline\n",
    "\n",
    "n = 100\n",
    "def plot_func(laser_scan_fov_deg, beta, tgs):\n",
    "    \n",
    "    \n",
    "    laser_scan_fov_deg_ls = np.array([laser_scan_fov_deg]*n)\n",
    "    beta_ls = np.array([beta]*n)\n",
    "    tgs_ls = np.array([tgs]*n)\n",
    "\n",
    "    laser_scan_max_range_ls = np.linspace(df.laser_scan_max_range.min(), df.laser_scan_max_range.max(), n)\n",
    "    laser_scan_max_range_values = df.laser_scan_max_range.unique()\n",
    "\n",
    "    X = features_transform(*np.array([laser_scan_max_range_ls, laser_scan_fov_deg_ls, beta_ls, tgs_ls])).T\n",
    "\n",
    "    plt.figure(figsize=1.5*np.array([5, 5]))\n",
    "    for slam_node in df.slam_node.unique():\n",
    "        y_predict, y_std = model[slam_node].predict(X, return_std=True)\n",
    "        plt.plot(laser_scan_max_range_ls, y_predict, linewidth=3, color=slam_node_colors[slam_node], label=f\"{slam_node}, pred\")\n",
    "        plt.fill_between(laser_scan_max_range_ls, y_predict-y_std, y_predict+y_std, color=slam_node_colors[slam_node], alpha=0.5, label=f\"{slam_node}, pred std\")\n",
    "        df_plot = df[(df.slam_node == slam_node) & \n",
    "                     (df.laser_scan_fov_deg == laser_scan_fov_deg) & \n",
    "                     (df.beta == beta) &\n",
    "                     (df.tgs == tgs)\n",
    "                    ].groupby(df.laser_scan_max_range)[output_metric.name].mean()\n",
    "        plt.plot(df_plot.index, df_plot, '--o', color=slam_node_colors[slam_node], label=f\"{slam_node}, data\")\n",
    "    plt.xlim([df.laser_scan_max_range.min(), df.laser_scan_max_range.max()])\n",
    "    plt.ylim([0.0, 0.7])\n",
    "    plt.xlabel(\"laser scan max range\")\n",
    "    plt.ylabel(f\"{output_metric.name}\")\n",
    "    plt.legend()\n",
    "    plt.grid()\n",
    "    plt.show()\n",
    "\n",
    "interact(plot_func, \n",
    "         laser_scan_fov_deg=widgets.SelectionSlider(\n",
    "             options=sorted(list(df.laser_scan_fov_deg.unique())),\n",
    "             value=180,\n",
    "             description='laser_scan_fov_deg:',\n",
    "             disabled=False,\n",
    "             continuous_update=True,\n",
    "             orientation='horizontal',\n",
    "             readout=True\n",
    "         ),\n",
    "         beta=widgets.SelectionSlider(\n",
    "             options=sorted(list(df.beta.unique())),\n",
    "             value=2,\n",
    "             description='beta:',\n",
    "             disabled=False,\n",
    "             continuous_update=True,\n",
    "             orientation='horizontal',\n",
    "             readout=True\n",
    "         ),\n",
    "         tgs=widgets.SelectionSlider(\n",
    "             options=sorted(list(df.tgs.unique())),\n",
    "             value=4,\n",
    "             description='tgs:',\n",
    "             disabled=False,\n",
    "             continuous_update=True,\n",
    "             orientation='horizontal',\n",
    "             readout=True\n",
    "         ),\n",
    ");"
   ]
  },
  {
   "cell_type": "code",
   "execution_count": 6,
   "metadata": {
    "scrolled": false
   },
   "outputs": [
    {
     "data": {
      "application/vnd.jupyter.widget-view+json": {
       "model_id": "d81b86458fc3432882e92b92de8c90fc",
       "version_major": 2,
       "version_minor": 0
      },
      "text/plain": [
       "interactive(children=(SelectionSlider(description='laser_scan_fov_deg:', options=(90, 180, 270, 359), value=90…"
      ]
     },
     "metadata": {},
     "output_type": "display_data"
    },
    {
     "data": {
      "text/plain": [
       "<Figure size 540x540 with 0 Axes>"
      ]
     },
     "metadata": {},
     "output_type": "display_data"
    }
   ],
   "source": [
    "import matplotlib.pyplot as plt\n",
    "# %matplotlib inline\n",
    "\n",
    "n = 100\n",
    "def plot_func(laser_scan_fov_deg, beta, tgs):\n",
    "    \n",
    "    plt.figure(figsize=1.5*np.array([5, 5]))\n",
    "    \n",
    "    laser_scan_fov_deg_ls = np.array([laser_scan_fov_deg]*n)\n",
    "    beta_ls = np.array([beta]*n)\n",
    "    tgs_ls = np.array([tgs]*n)\n",
    "\n",
    "    laser_scan_max_range_ls = np.linspace(df.laser_scan_max_range.min(), df.laser_scan_max_range.max(), n)\n",
    "    laser_scan_max_range_values = df.laser_scan_max_range.unique()\n",
    "\n",
    "    X = features_transform(*np.array([laser_scan_max_range_ls, laser_scan_fov_deg_ls, beta_ls, tgs_ls])).T\n",
    "\n",
    "    for slam_node in df.slam_node.unique():\n",
    "        y_predict, y_std = model[slam_node].predict(X, return_std=True)\n",
    "        plt.plot(laser_scan_max_range_ls, y_predict, linewidth=3, color=slam_node_colors[slam_node], label=f\"{slam_node}, pred\")\n",
    "        plt.fill_between(laser_scan_max_range_ls, y_predict-y_std, y_predict+y_std, color=slam_node_colors[slam_node], alpha=0.25, label=f\"{slam_node}, pred std\")\n",
    "\n",
    "        df_plot = df[(df.slam_node == slam_node) & \n",
    "                     (df.laser_scan_fov_deg == laser_scan_fov_deg) & \n",
    "                     (df.beta == beta) &\n",
    "                     (df.tgs == tgs)\n",
    "                    ].groupby(df.laser_scan_max_range)[output_metric.name].mean()\n",
    "        plt.plot(df_plot.index, df_plot, '--o', color=slam_node_colors[slam_node], label=f\"{slam_node}, data\")\n",
    "    plt.xlim([df.laser_scan_max_range.min(), df.laser_scan_max_range.max()])\n",
    "    plt.ylim([0.0, 0.3])\n",
    "    plt.xlabel(\"laser scan max range\")\n",
    "    plt.ylabel(f\"{output_metric.name}\")\n",
    "    plt.legend()\n",
    "    plt.grid()\n",
    "    plt.show()\n",
    "\n",
    "interact(plot_func, \n",
    "         laser_scan_fov_deg=widgets.SelectionSlider(\n",
    "             options=sorted(list(df.laser_scan_fov_deg.unique())),\n",
    "             value=df.laser_scan_fov_deg.min(),\n",
    "             description='laser_scan_fov_deg:',\n",
    "             disabled=False,\n",
    "             continuous_update=True,\n",
    "             orientation='horizontal',\n",
    "             readout=True\n",
    "         ),\n",
    "         beta=widgets.SelectionSlider(\n",
    "             options=sorted(list(df.beta.unique())),\n",
    "             value=df.beta.min(),\n",
    "             description='beta:',\n",
    "             disabled=False,\n",
    "             continuous_update=True,\n",
    "             orientation='horizontal',\n",
    "             readout=True\n",
    "         ),\n",
    "         tgs=widgets.SelectionSlider(\n",
    "             options=sorted(list(df.tgs.unique())),\n",
    "             value=df.tgs.min(),\n",
    "             description='tgs:',\n",
    "             disabled=False,\n",
    "             continuous_update=True,\n",
    "             orientation='horizontal',\n",
    "             readout=True\n",
    "         ),\n",
    ");"
   ]
  },
  {
   "cell_type": "code",
   "execution_count": 7,
   "metadata": {},
   "outputs": [
    {
     "data": {
      "application/vnd.jupyter.widget-view+json": {
       "model_id": "8af2f9b3f59e430da9239a74ec379181",
       "version_major": 2,
       "version_minor": 0
      },
      "text/plain": [
       "interactive(children=(SelectionSlider(description='laser_scan_max_range:', options=(3.5, 8.0, 15.0, 30.0), val…"
      ]
     },
     "metadata": {},
     "output_type": "display_data"
    },
    {
     "data": {
      "text/plain": [
       "<Figure size 540x540 with 0 Axes>"
      ]
     },
     "metadata": {},
     "output_type": "display_data"
    }
   ],
   "source": [
    "import matplotlib.pyplot as plt\n",
    "%matplotlib inline\n",
    "\n",
    "n = 100\n",
    "def plot_func(laser_scan_max_range, beta, tgs):\n",
    "    \n",
    "    plt.figure(figsize=1.5*np.array([5, 5]))\n",
    "    \n",
    "    laser_scan_max_range_ls = np.array([laser_scan_max_range]*n)\n",
    "    beta_ls = np.array([beta]*n)\n",
    "    tgs_ls = np.array([tgs]*n)\n",
    "\n",
    "    laser_scan_fov_deg_ls = np.linspace(df.laser_scan_fov_deg.min(), df.laser_scan_fov_deg.max(), n)\n",
    "    laser_scan_fov_deg_values = df.laser_scan_fov_deg.unique()\n",
    "\n",
    "    X = features_transform(*np.array([laser_scan_max_range_ls, laser_scan_fov_deg_ls, beta_ls, tgs_ls])).T\n",
    "\n",
    "    for slam_node in df.slam_node.unique():\n",
    "        y_predict = model[slam_node].predict(X)\n",
    "        plt.plot(laser_scan_fov_deg_ls, y_predict, linewidth=3, color=slam_node_colors[slam_node], label=f\"{slam_node}, pred\")\n",
    "\n",
    "        df_plot = df[(df.slam_node == slam_node) & \n",
    "                     (df.laser_scan_max_range == laser_scan_max_range) & \n",
    "                     (df.beta == beta) &\n",
    "                     (df.tgs == tgs)\n",
    "                    ].groupby(df.laser_scan_fov_deg)[output_metric.name].mean()\n",
    "        plt.plot(df_plot.index, df_plot, '--o', color=slam_node_colors[slam_node], label=f\"{slam_node}, data\")\n",
    "    plt.xlim([df.laser_scan_fov_deg.min(), df.laser_scan_fov_deg.max()])\n",
    "    plt.ylim([0.0, 0.7])\n",
    "    plt.xlabel(\"laser_scan_fov_deg\")\n",
    "    plt.ylabel(f\"{output_metric.name}\")\n",
    "    plt.legend()\n",
    "    plt.grid()\n",
    "    plt.show()\n",
    "\n",
    "interact(plot_func, \n",
    "         laser_scan_max_range=widgets.SelectionSlider(\n",
    "             options=sorted(list(df.laser_scan_max_range.unique())),\n",
    "             value=df.laser_scan_max_range.min(),\n",
    "             description='laser_scan_max_range:',\n",
    "             disabled=False,\n",
    "             continuous_update=True,\n",
    "             orientation='horizontal',\n",
    "             readout=True\n",
    "         ),\n",
    "         beta=widgets.SelectionSlider(\n",
    "             options=sorted(list(df.beta.unique())),\n",
    "             value=df.beta.min(),\n",
    "             description='beta:',\n",
    "             disabled=False,\n",
    "             continuous_update=True,\n",
    "             orientation='horizontal',\n",
    "             readout=True\n",
    "         ),\n",
    "         tgs=widgets.SelectionSlider(\n",
    "             options=sorted(list(df.tgs.unique())),\n",
    "             value=df.tgs.min(),\n",
    "             description='tgs:',\n",
    "             disabled=False,\n",
    "             continuous_update=True,\n",
    "             orientation='horizontal',\n",
    "             readout=True\n",
    "         ),\n",
    "\n",
    ");"
   ]
  },
  {
   "cell_type": "code",
   "execution_count": 8,
   "metadata": {},
   "outputs": [
    {
     "data": {
      "application/vnd.jupyter.widget-view+json": {
       "model_id": "a226ba09cb08485586be12584fa478b7",
       "version_major": 2,
       "version_minor": 0
      },
      "text/plain": [
       "interactive(children=(SelectionSlider(description='laser_scan_max_range:', options=(3.5, 8.0, 15.0, 30.0), val…"
      ]
     },
     "metadata": {},
     "output_type": "display_data"
    }
   ],
   "source": [
    "import matplotlib.pyplot as plt\n",
    "%matplotlib inline\n",
    "\n",
    "n = 100\n",
    "def plot_func(laser_scan_max_range, beta, tgs):\n",
    "    \n",
    "    plt.figure(figsize=1.5*np.array([5, 5]))\n",
    "    \n",
    "    laser_scan_max_range_ls = np.array([laser_scan_max_range]*n)\n",
    "    beta_ls = np.array([beta]*n)\n",
    "    tgs_ls = np.array([tgs]*n)\n",
    "\n",
    "    laser_scan_fov_deg_ls = np.linspace(df.laser_scan_fov_deg.min(), df.laser_scan_fov_deg.max(), n)\n",
    "    laser_scan_fov_deg_values = df.laser_scan_fov_deg.unique()\n",
    "\n",
    "    X = features_transform(*np.array([laser_scan_max_range_ls, laser_scan_fov_deg_ls, beta_ls, tgs_ls])).T\n",
    "\n",
    "    for slam_node in df.slam_node.unique():\n",
    "#         y_predict = model[slam_node].predict(X)\n",
    "#         plt.plot(laser_scan_fov_deg_ls, y_predict, linewidth=3, color=slam_node_colors[slam_node], label=f\"{slam_node}, pred\")\n",
    "\n",
    "        df_plot = df[(df.slam_node == slam_node) & \n",
    "                     (df.laser_scan_max_range == laser_scan_max_range) & \n",
    "                     (df.beta == beta) &\n",
    "                     (df.tgs == tgs)\n",
    "                    ].groupby(df.laser_scan_fov_deg)[output_metric.name].std()\n",
    "        plt.plot(df_plot.index, df_plot, '--o', color=slam_node_colors[slam_node], label=f\"{slam_node}, data\")\n",
    "    plt.xlim([df.laser_scan_fov_deg.min(), df.laser_scan_fov_deg.max()])\n",
    "    plt.ylim([0.0, 0.7])\n",
    "    plt.xlabel(\"laser_scan_fov_deg\")\n",
    "    plt.ylabel(f\"{output_metric.name}\")\n",
    "    plt.legend()\n",
    "    plt.grid()\n",
    "    plt.show()\n",
    "\n",
    "interact(plot_func, \n",
    "         laser_scan_max_range=widgets.SelectionSlider(\n",
    "             options=sorted(list(df.laser_scan_max_range.unique())),\n",
    "             value=df.laser_scan_max_range.min(),\n",
    "             description='laser_scan_max_range:',\n",
    "             disabled=False,\n",
    "             continuous_update=True,\n",
    "             orientation='horizontal',\n",
    "             readout=True\n",
    "         ),\n",
    "         beta=widgets.SelectionSlider(\n",
    "             options=sorted(list(df.beta.unique())),\n",
    "             value=df.beta.min(),\n",
    "             description='beta:',\n",
    "             disabled=False,\n",
    "             continuous_update=True,\n",
    "             orientation='horizontal',\n",
    "             readout=True\n",
    "         ),\n",
    "         tgs=widgets.SelectionSlider(\n",
    "             options=sorted(list(df.tgs.unique())),\n",
    "             value=df.tgs.min(),\n",
    "             description='tgs:',\n",
    "             disabled=False,\n",
    "             continuous_update=True,\n",
    "             orientation='horizontal',\n",
    "             readout=True\n",
    "         ),\n",
    "\n",
    ");"
   ]
  },
  {
   "cell_type": "code",
   "execution_count": 9,
   "metadata": {},
   "outputs": [
    {
     "data": {
      "application/vnd.jupyter.widget-view+json": {
       "model_id": "f28152b858054d84ade299b977edaac3",
       "version_major": 2,
       "version_minor": 0
      },
      "text/plain": [
       "interactive(children=(SelectionSlider(description='laser_scan_max_range:', options=(3.5, 8.0, 15.0, 30.0), val…"
      ]
     },
     "metadata": {},
     "output_type": "display_data"
    },
    {
     "data": {
      "text/plain": [
       "<Figure size 540x540 with 0 Axes>"
      ]
     },
     "metadata": {},
     "output_type": "display_data"
    }
   ],
   "source": [
    "import matplotlib.pyplot as plt\n",
    "%matplotlib inline\n",
    "\n",
    "n = 100\n",
    "def plot_func(laser_scan_max_range, laser_scan_fov_deg, tgs):\n",
    "    \n",
    "    plt.figure(figsize=1.5*np.array([5, 5]))\n",
    "    \n",
    "    laser_scan_max_range_ls = np.array([laser_scan_max_range]*n)\n",
    "    laser_scan_fov_deg_ls = np.array([laser_scan_fov_deg]*n)\n",
    "    tgs_ls = np.array([tgs]*n)\n",
    "\n",
    "    beta_ls = np.linspace(df.beta.min(), df.beta.max(), n)\n",
    "    beta_values = df.beta.unique()\n",
    "\n",
    "    X = features_transform(*np.array([laser_scan_max_range_ls, laser_scan_fov_deg_ls, beta_ls, tgs_ls])).T\n",
    "\n",
    "    for slam_node in df.slam_node.unique():\n",
    "        y_predict = model[slam_node].predict(X)\n",
    "        plt.plot(beta_ls, y_predict, linewidth=3, color=slam_node_colors[slam_node], label=f\"{slam_node}, pred\")\n",
    "\n",
    "        df_plot = df[(df.slam_node == slam_node) & \n",
    "                     (df.laser_scan_max_range == laser_scan_max_range) & \n",
    "                     (df.laser_scan_fov_deg == laser_scan_fov_deg) & \n",
    "                     (df.tgs == tgs)\n",
    "                    ].groupby(df.beta)[output_metric.name].mean()\n",
    "        plt.plot(df_plot.index, df_plot, '--o', color=slam_node_colors[slam_node], label=f\"{slam_node}, data\")\n",
    "    plt.xlim([df.beta.min(), df.beta.max()])\n",
    "    plt.ylim([0.0, 0.7])\n",
    "    plt.xlabel(\"beta\")\n",
    "    plt.ylabel(f\"{output_metric.name}\")\n",
    "    plt.legend()\n",
    "    plt.grid()\n",
    "    plt.show()\n",
    "\n",
    "interact(plot_func, \n",
    "         laser_scan_max_range=widgets.SelectionSlider(\n",
    "             options=sorted(list(df.laser_scan_max_range.unique())),\n",
    "             value=df.laser_scan_max_range.min(),\n",
    "             description='laser_scan_max_range:',\n",
    "             disabled=False,\n",
    "             continuous_update=True,\n",
    "             orientation='horizontal',\n",
    "             readout=True\n",
    "         ),\n",
    "         laser_scan_fov_deg=widgets.SelectionSlider(\n",
    "             options=sorted(list(df.laser_scan_fov_deg.unique())),\n",
    "             value=df.laser_scan_fov_deg.min(),\n",
    "             description='laser_scan_fov_deg:',\n",
    "             disabled=False,\n",
    "             continuous_update=True,\n",
    "             orientation='horizontal',\n",
    "             readout=True\n",
    "         ),\n",
    "         tgs=widgets.SelectionSlider(\n",
    "             options=sorted(list(df.tgs.unique())),\n",
    "             value=df.tgs.min(),\n",
    "             description='tgs:',\n",
    "             disabled=False,\n",
    "             continuous_update=True,\n",
    "             orientation='horizontal',\n",
    "             readout=True\n",
    "         ),\n",
    ");"
   ]
  },
  {
   "cell_type": "code",
   "execution_count": 10,
   "metadata": {},
   "outputs": [
    {
     "data": {
      "application/vnd.jupyter.widget-view+json": {
       "model_id": "a713f578beb14d67a6be292a07fe496a",
       "version_major": 2,
       "version_minor": 0
      },
      "text/plain": [
       "interactive(children=(SelectionSlider(description='laser_scan_max_range:', options=(3.5, 8.0, 15.0, 30.0), val…"
      ]
     },
     "metadata": {},
     "output_type": "display_data"
    },
    {
     "data": {
      "text/plain": [
       "<Figure size 540x540 with 0 Axes>"
      ]
     },
     "metadata": {},
     "output_type": "display_data"
    }
   ],
   "source": [
    "import matplotlib.pyplot as plt\n",
    "%matplotlib inline\n",
    "\n",
    "n = 100\n",
    "def plot_func(laser_scan_max_range, laser_scan_fov_deg, beta):\n",
    "    \n",
    "    plt.figure(figsize=1.5*np.array([5, 5]))\n",
    "    \n",
    "    laser_scan_max_range_ls = np.array([laser_scan_max_range]*n)\n",
    "    laser_scan_fov_deg_ls = np.array([laser_scan_fov_deg]*n)\n",
    "    beta_ls = np.array([beta]*n)\n",
    "\n",
    "    tgs_ls = np.linspace(df.tgs.min(), df.tgs.max(), n)\n",
    "    tgs_values = df.tgs.unique()\n",
    "\n",
    "    X = features_transform(*np.array([laser_scan_max_range_ls, laser_scan_fov_deg_ls, beta_ls, tgs_ls])).T\n",
    "\n",
    "    for slam_node in df.slam_node.unique():\n",
    "        y_predict = model[slam_node].predict(X)\n",
    "        plt.plot(tgs_ls, y_predict, linewidth=3, color=slam_node_colors[slam_node], label=f\"{slam_node}, pred\")\n",
    "\n",
    "        df_plot = df[(df.slam_node == slam_node) & \n",
    "                     (df.laser_scan_max_range == laser_scan_max_range) & \n",
    "                     (df.laser_scan_fov_deg == laser_scan_fov_deg) & \n",
    "                     (df.beta == beta)\n",
    "                    ].groupby(df.tgs)[output_metric.name].mean()\n",
    "        plt.plot(df_plot.index, df_plot, '--o', color=slam_node_colors[slam_node], label=f\"{slam_node}, data\")\n",
    "    plt.xlim([df.tgs.min(), df.tgs.max()])\n",
    "    plt.ylim([0.0, 0.7])\n",
    "    plt.xlabel(\"tgs\")\n",
    "    plt.ylabel(f\"{output_metric.name}\")\n",
    "    plt.legend()\n",
    "    plt.grid()\n",
    "    plt.show()\n",
    "\n",
    "interact(plot_func, \n",
    "         laser_scan_max_range=widgets.SelectionSlider(\n",
    "             options=sorted(list(df.laser_scan_max_range.unique())),\n",
    "             value=df.laser_scan_max_range.min(),\n",
    "             description='laser_scan_max_range:',\n",
    "             disabled=False,\n",
    "             continuous_update=True,\n",
    "             orientation='horizontal',\n",
    "             readout=True\n",
    "         ),\n",
    "         laser_scan_fov_deg=widgets.SelectionSlider(\n",
    "             options=sorted(list(df.laser_scan_fov_deg.unique())),\n",
    "             value=df.laser_scan_fov_deg.min(),\n",
    "             description='laser_scan_fov_deg:',\n",
    "             disabled=False,\n",
    "             continuous_update=True,\n",
    "             orientation='horizontal',\n",
    "             readout=True\n",
    "         ),\n",
    "         beta=widgets.SelectionSlider(\n",
    "             options=sorted(list(df.beta.unique())),\n",
    "             value=df.beta.min(),\n",
    "             description='beta:',\n",
    "             disabled=False,\n",
    "             continuous_update=True,\n",
    "             orientation='horizontal',\n",
    "             readout=True\n",
    "         ),\n",
    "         \n",
    ");"
   ]
  }
 ],
 "metadata": {
  "kernelspec": {
   "display_name": "Python 3",
   "language": "python",
   "name": "python3"
  },
  "language_info": {
   "codemirror_mode": {
    "name": "ipython",
    "version": 3
   },
   "file_extension": ".py",
   "mimetype": "text/x-python",
   "name": "python",
   "nbconvert_exporter": "python",
   "pygments_lexer": "ipython3",
   "version": "3.8.10"
  }
 },
 "nbformat": 4,
 "nbformat_minor": 4
}
