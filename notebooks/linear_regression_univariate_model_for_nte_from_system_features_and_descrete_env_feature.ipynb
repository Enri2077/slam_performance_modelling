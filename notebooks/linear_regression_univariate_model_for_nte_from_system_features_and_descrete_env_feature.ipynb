{
 "cells": [
  {
   "cell_type": "code",
   "execution_count": 1,
   "metadata": {},
   "outputs": [
    {
     "data": {
      "text/html": [
       "<style>.container { width:100% !important; }</style>"
      ],
      "text/plain": [
       "<IPython.core.display.HTML object>"
      ]
     },
     "metadata": {},
     "output_type": "display_data"
    }
   ],
   "source": [
    "from IPython.core.display import Markdown, display, HTML\n",
    "display(HTML(\"<style>.container { width:100% !important; }</style>\"))\n",
    "import ipywidgets as widgets\n",
    "from ipywidgets import interact, interact_manual\n",
    "\n",
    "import traceback\n",
    "import numpy as np\n",
    "import scipy.stats as ss\n",
    "import itertools\n",
    "import os\n",
    "from os import path\n",
    "import pickle\n",
    "from sklearn.linear_model import LinearRegression, TheilSenRegressor, RANSACRegressor, HuberRegressor\n",
    "from sklearn.metrics import mean_squared_error, r2_score\n",
    "from sklearn.preprocessing import PolynomialFeatures, StandardScaler\n",
    "from sklearn.pipeline import make_pipeline\n",
    "import sklearn.gaussian_process as gp\n",
    "\n",
    "import matplotlib\n",
    "matplotlib.use('TkAgg') \n",
    "import matplotlib.pyplot as plt\n",
    "plt.rcParams['figure.figsize'] = [5, 5]\n",
    "\n",
    "import pandas as pd\n",
    "pd.options.display.width = 500\n",
    "\n",
    "slam_node_colors = {'gmapping': 'orange', 'slam_toolbox': 'blue', 'hector_slam': 'cyan'}\n"
   ]
  },
  {
   "cell_type": "code",
   "execution_count": 2,
   "metadata": {},
   "outputs": [],
   "source": [
    "def load_cache(file_path):\n",
    "    with open(path.expanduser(file_path), 'rb') as f:\n",
    "        cache_dict = pickle.load(f)\n",
    "        return cache_dict['df']\n",
    "\n",
    "def printmd(*args):\n",
    "    display(Markdown(' '.join(map(str, args))))"
   ]
  },
  {
   "cell_type": "code",
   "execution_count": 3,
   "metadata": {
    "scrolled": false
   },
   "outputs": [
    {
     "data": {
      "text/markdown": [
       "## Parameters and Their Values"
      ],
      "text/plain": [
       "<IPython.core.display.Markdown object>"
      ]
     },
     "metadata": {},
     "output_type": "display_data"
    },
    {
     "data": {
      "text/markdown": [
       "               laser_scan_max_range [3.5, 8.0, 15.0, 30.0]"
      ],
      "text/plain": [
       "<IPython.core.display.Markdown object>"
      ]
     },
     "metadata": {},
     "output_type": "display_data"
    },
    {
     "data": {
      "text/markdown": [
       "                 laser_scan_fov_deg [90, 180, 270, 359]"
      ],
      "text/plain": [
       "<IPython.core.display.Markdown object>"
      ]
     },
     "metadata": {},
     "output_type": "display_data"
    },
    {
     "data": {
      "text/markdown": [
       "                               beta [0.0, 0.5, 1.0, 1.5, 2.0]"
      ],
      "text/plain": [
       "<IPython.core.display.Markdown object>"
      ]
     },
     "metadata": {},
     "output_type": "display_data"
    },
    {
     "data": {
      "text/markdown": [
       "                         start_time [0, 1, 2, 3, 4, 5, 6, 7, 8, 9]"
      ],
      "text/plain": [
       "<IPython.core.display.Markdown object>"
      ]
     },
     "metadata": {},
     "output_type": "display_data"
    },
    {
     "data": {
      "text/markdown": [
       "      accumulated_trajectory_length [0, 1, 2, 3, 4, 5, 6, 7, 8, 9]"
      ],
      "text/plain": [
       "<IPython.core.display.Markdown object>"
      ]
     },
     "metadata": {},
     "output_type": "display_data"
    },
    {
     "data": {
      "text/markdown": [
       "                                tgs [0, 1, 2, 3, 4]"
      ],
      "text/plain": [
       "<IPython.core.display.Markdown object>"
      ]
     },
     "metadata": {},
     "output_type": "display_data"
    },
    {
     "data": {
      "text/markdown": [
       "                                lvr [0.0, 1.0, 2.0, 3.0, 4.0, 5.0, 6.0, 7.0, 8.0, 9.0]"
      ],
      "text/plain": [
       "<IPython.core.display.Markdown object>"
      ]
     },
     "metadata": {},
     "output_type": "display_data"
    },
    {
     "data": {
      "text/markdown": [
       "                          slam_node ['gmapping', 'slam_toolbox']"
      ],
      "text/plain": [
       "<IPython.core.display.Markdown object>"
      ]
     },
     "metadata": {},
     "output_type": "display_data"
    },
    {
     "data": {
      "text/markdown": [
       "                   environment_name ['7A-2', 'airlab', 'fr079', 'office_b']"
      ],
      "text/plain": [
       "<IPython.core.display.Markdown object>"
      ]
     },
     "metadata": {},
     "output_type": "display_data"
    }
   ],
   "source": [
    "# load data from cache and rename columns\n",
    "# df_new_config = load_cache(\"/home/enrico/ds/performance_modelling/output/slam_new_config/run_data_per_waypoint_cache_backup_2021-05-10.pkl\")\n",
    "df_new_config = load_cache(\"/home/enrico/ds/performance_modelling/output/slam_new_config/run_data_per_waypoint_cache.pkl\")\n",
    "df_many_odoms = load_cache(\"/home/enrico/ds/performance_modelling/output/slam_many_odoms/run_data_per_waypoint_cache.pkl\")\n",
    "df = df_new_config.append(df_many_odoms, ignore_index=True, sort=False)\n",
    "# df = df_new_config\n",
    "\n",
    "df.rename(inplace=True, columns={\n",
    "    'trajectory_length_trajectory_length': 'trajectory_length',\n",
    "    'waypoint_relative_localization_error_translation_error_final': 'translation_error',\n",
    "    'waypoint_absolute_localization_error_absolute_translation_error_start': 'absolute_translation_error',\n",
    "    'waypoint_relative_localization_error_rotation_error_final': 'rotation_error',\n",
    "    'geometric_similarity_sensor_mean_of_translation_eigenvalues_ratio_all': 'tgs_cont',\n",
    "    'lidar_visibility_mean_visible_ranges_ratio': 'lvr_cont',\n",
    "    'waypoint_start_time': 'start_time_cont',\n",
    "})\n",
    "\n",
    "# refactor and extract additional parameters and metrics\n",
    "df['linear_update'] = df['linear_angular_update'].apply(lambda x: x[0])\n",
    "df['beta'] = df['beta'].apply(lambda x: max(x))\n",
    "df['norm_translation_error'] = df.translation_error / df.trajectory_length\n",
    "df['run_id'] = df['run_folder'].apply(lambda x: path.basename(x))\n",
    "df['waypoint_index'] = df.sort_values('start_time_cont').groupby(df.run_id).cumcount()\n",
    "df['accumulated_trajectory_length_cont'] = df.sort_values('start_time_cont').groupby(df.run_id).trajectory_length.cumsum() - df.trajectory_length\n",
    "df['session_id'] =  df['run_id'].apply(lambda x:  x.split('_')[1]+'_'+x.split('_')[2]+'_'+x.split('_')[3])\n",
    "df['run_number'] =  df['run_id'].apply(lambda x:  int(x.split('_')[5]))\n",
    "df['p'] = df.translation_error.apply(lambda x: x > 0.2)\n",
    "\n",
    "# discretize continuous input metrics\n",
    "df['tgs'] = pd.cut(df.tgs_cont, 5, labels=False)\n",
    "df['lvr'] = pd.cut(df.lvr_cont, 10, labels=False)\n",
    "df['start_time'] = pd.cut(df.start_time_cont, 10, labels=False)\n",
    "df['accumulated_trajectory_length'] = pd.cut(df.accumulated_trajectory_length_cont, 10, labels=False)\n",
    "\n",
    "# drop unnecessary datapoints\n",
    "# df = df[(\n",
    "#     ((df.slam_node == 'gmapping') | (df.slam_node == 'slam_toolbox')) & (df.linear_update == 0.5) #|\n",
    "# #     (df.slam_node == 'hector_slam') & (df.linear_update == 0.4)\n",
    "# )]\n",
    "df = df[((df.slam_node == 'gmapping') | (df.slam_node == 'slam_toolbox')) & (df.linear_update == 0.5)]\n",
    "df = df[df.trajectory_length > 1]\n",
    "df = df[df.absolute_translation_error < 5]\n",
    "\n",
    "# only keep necessary columns\n",
    "robot_parameters = [\n",
    "    'laser_scan_max_range',\n",
    "    'laser_scan_fov_deg',\n",
    "    'beta',\n",
    "]\n",
    "other_parameters = [\n",
    "    'run_absolute_start_time',\n",
    "    'session_id',\n",
    "    'run_number',\n",
    "    'run_id',\n",
    "    'slam_node',\n",
    "    'environment_name',\n",
    "]\n",
    "input_discretized_metrics = [\n",
    "    'start_time',\n",
    "    'accumulated_trajectory_length',\n",
    "    'tgs',\n",
    "    'lvr',\n",
    "]\n",
    "input_continuous_metrics = [\n",
    "    'waypoint_index',\n",
    "    'start_time_cont',\n",
    "    'tgs_cont',\n",
    "    'lvr_cont',\n",
    "]\n",
    "output_metrics = [\n",
    "    'norm_translation_error',\n",
    "    'absolute_translation_error',\n",
    "    'p',\n",
    "]\n",
    "df = df[\n",
    "    robot_parameters +\n",
    "    other_parameters +\n",
    "    input_discretized_metrics +\n",
    "    input_continuous_metrics +\n",
    "    output_metrics\n",
    "]\n",
    "\n",
    "mrs = sorted(list(df.laser_scan_max_range.unique()))\n",
    "fovs = sorted(list(df.laser_scan_fov_deg.unique()))\n",
    "betas = sorted(list(df.beta.unique()))\n",
    "betas_fovs = list(itertools.product(betas, fovs))\n",
    "\n",
    "printmd(\"## Parameters and Their Values\")\n",
    "for c in robot_parameters + input_discretized_metrics + ['slam_node', 'environment_name',]:\n",
    "    printmd(\"{:>35}\".format(c), sorted(list(df[c].unique())))"
   ]
  },
  {
   "cell_type": "code",
   "execution_count": 4,
   "metadata": {},
   "outputs": [],
   "source": [
    "def lr_univariate_model_and_plot(num_polynomial_features, output_metric, model_feature, feature_transform, plot_std=False):\n",
    "    model_agg = dict()\n",
    "    model_all = dict()\n",
    "    df_agg = dict()\n",
    "    df_agg_std = dict()\n",
    "\n",
    "    printmd(\"### Univariate Linear Regression Model\")\n",
    "    printmd(f\"{'slam_node':>20} | {'r2':>7}\")\n",
    "    for slam_node in df.slam_node.unique():\n",
    "\n",
    "        df_agg[slam_node] = df[df.slam_node == slam_node].groupby(model_feature).mean()[output_metric.name]\n",
    "        df_agg_std[slam_node] = df[df.slam_node == slam_node].groupby(model_feature).std()[output_metric.name]\n",
    "        X_agg = (feature_transform(np.array(list(df_agg[slam_node].index.values)))).reshape(-1, 1)\n",
    "        y_agg = df_agg[slam_node].values\n",
    "\n",
    "        model_agg[slam_node] = make_pipeline(StandardScaler(), PolynomialFeatures(num_polynomial_features), LinearRegression())\n",
    "        model_agg[slam_node].fit(X_agg, y_agg);\n",
    "\n",
    "        y_pred_agg = model_agg[slam_node].predict(X_agg)\n",
    "        r2_agg = r2_score(y_agg, y_pred_agg)\n",
    "\n",
    "        printmd(f\"{slam_node:>20} | {r2_agg:+0.4f}\")\n",
    "\n",
    "    n = 100\n",
    "    plt.figure(figsize=np.array([6, 6]))\n",
    "\n",
    "    model_feature_ls = np.linspace(model_feature.min(), model_feature.max(), n)\n",
    "    model_feature_values = model_feature.unique()\n",
    "\n",
    "    X_predict = (feature_transform(model_feature_ls)).reshape(-1, 1)\n",
    "\n",
    "    for slam_node in df.slam_node.unique():\n",
    "        y_predict = model_agg[slam_node].predict(X_predict)\n",
    "        plt.plot(model_feature_ls, y_predict, linewidth=3, color=slam_node_colors[slam_node], label=f\"{slam_node}, pred\")\n",
    "        plt.plot(df_agg[slam_node].index.values, df_agg[slam_node].values, '--o', color=slam_node_colors[slam_node], label=f\"{slam_node}, data mean\")\n",
    "        if plot_std:\n",
    "            plt.fill_between(\n",
    "                df_agg_std[slam_node].index.values, \n",
    "                df_agg[slam_node]-df_agg_std[slam_node], \n",
    "                df_agg[slam_node]+df_agg_std[slam_node], \n",
    "                color=slam_node_colors[slam_node], label=f\"{slam_node}, data std\", alpha=0.5)\n",
    "        \n",
    "    plt.xlim([model_feature.min(), model_feature.max()])\n",
    "    \n",
    "    if plot_std:\n",
    "        plt.ylim([0.0, 1.1*max(max(df_agg[\"slam_toolbox\"]), max(df_agg[\"gmapping\"]), max(df_agg[\"slam_toolbox\"]+df_agg_std[\"slam_toolbox\"]), max(df_agg[\"gmapping\"]+df_agg_std[\"gmapping\"]))])\n",
    "    else:\n",
    "        plt.ylim([0.0, 1.1*max(max(df_agg[\"slam_toolbox\"]), max(df_agg[\"gmapping\"]))])\n",
    "\n",
    "    plt.xlabel(f\"{model_feature.name.replace('_', ' ')}\", fontsize=20)\n",
    "    plt.ylabel(f\"{output_metric.name.replace('_', ' ')}\", fontsize=20)\n",
    "    plt.legend(fontsize=14)\n",
    "    plt.grid()\n",
    "#     plt.show()\n",
    "    if not path.isdir(\"plots\"):\n",
    "        os.makedirs(\"plots\")\n",
    "    plt.savefig(path.join(\"plots\", f\"univariate-model-{model_feature.name.replace('_', '-')}.eps\"))"
   ]
  },
  {
   "cell_type": "code",
   "execution_count": 5,
   "metadata": {
    "scrolled": false
   },
   "outputs": [
    {
     "data": {
      "text/markdown": [
       "### Univariate Linear Regression Model"
      ],
      "text/plain": [
       "<IPython.core.display.Markdown object>"
      ]
     },
     "metadata": {},
     "output_type": "display_data"
    },
    {
     "data": {
      "text/markdown": [
       "           slam_node |      r2"
      ],
      "text/plain": [
       "<IPython.core.display.Markdown object>"
      ]
     },
     "metadata": {},
     "output_type": "display_data"
    },
    {
     "data": {
      "text/markdown": [
       "            gmapping | +0.9999"
      ],
      "text/plain": [
       "<IPython.core.display.Markdown object>"
      ]
     },
     "metadata": {},
     "output_type": "display_data"
    },
    {
     "data": {
      "text/markdown": [
       "        slam_toolbox | +0.9856"
      ],
      "text/plain": [
       "<IPython.core.display.Markdown object>"
      ]
     },
     "metadata": {},
     "output_type": "display_data"
    },
    {
     "name": "stderr",
     "output_type": "stream",
     "text": [
      "The PostScript backend does not support transparency; partially transparent artists will be rendered opaque.\n",
      "The PostScript backend does not support transparency; partially transparent artists will be rendered opaque.\n"
     ]
    }
   ],
   "source": [
    "lr_univariate_model_and_plot(num_polynomial_features=2, output_metric=df.norm_translation_error, model_feature=df.laser_scan_max_range, feature_transform=lambda x: 1/x)"
   ]
  },
  {
   "cell_type": "code",
   "execution_count": 6,
   "metadata": {
    "scrolled": false
   },
   "outputs": [
    {
     "data": {
      "text/markdown": [
       "### Univariate Linear Regression Model"
      ],
      "text/plain": [
       "<IPython.core.display.Markdown object>"
      ]
     },
     "metadata": {},
     "output_type": "display_data"
    },
    {
     "data": {
      "text/markdown": [
       "           slam_node |      r2"
      ],
      "text/plain": [
       "<IPython.core.display.Markdown object>"
      ]
     },
     "metadata": {},
     "output_type": "display_data"
    },
    {
     "data": {
      "text/markdown": [
       "            gmapping | +0.9801"
      ],
      "text/plain": [
       "<IPython.core.display.Markdown object>"
      ]
     },
     "metadata": {},
     "output_type": "display_data"
    },
    {
     "data": {
      "text/markdown": [
       "        slam_toolbox | +0.9976"
      ],
      "text/plain": [
       "<IPython.core.display.Markdown object>"
      ]
     },
     "metadata": {},
     "output_type": "display_data"
    },
    {
     "name": "stderr",
     "output_type": "stream",
     "text": [
      "The PostScript backend does not support transparency; partially transparent artists will be rendered opaque.\n",
      "The PostScript backend does not support transparency; partially transparent artists will be rendered opaque.\n"
     ]
    }
   ],
   "source": [
    "lr_univariate_model_and_plot(num_polynomial_features=2, output_metric=df.norm_translation_error, model_feature=df.laser_scan_fov_deg, feature_transform=lambda x: 1/x)"
   ]
  },
  {
   "cell_type": "code",
   "execution_count": 7,
   "metadata": {
    "scrolled": false
   },
   "outputs": [
    {
     "data": {
      "text/markdown": [
       "### Univariate Linear Regression Model"
      ],
      "text/plain": [
       "<IPython.core.display.Markdown object>"
      ]
     },
     "metadata": {},
     "output_type": "display_data"
    },
    {
     "data": {
      "text/markdown": [
       "           slam_node |      r2"
      ],
      "text/plain": [
       "<IPython.core.display.Markdown object>"
      ]
     },
     "metadata": {},
     "output_type": "display_data"
    },
    {
     "data": {
      "text/markdown": [
       "            gmapping | +0.9870"
      ],
      "text/plain": [
       "<IPython.core.display.Markdown object>"
      ]
     },
     "metadata": {},
     "output_type": "display_data"
    },
    {
     "data": {
      "text/markdown": [
       "        slam_toolbox | +0.8909"
      ],
      "text/plain": [
       "<IPython.core.display.Markdown object>"
      ]
     },
     "metadata": {},
     "output_type": "display_data"
    },
    {
     "name": "stderr",
     "output_type": "stream",
     "text": [
      "The PostScript backend does not support transparency; partially transparent artists will be rendered opaque.\n",
      "The PostScript backend does not support transparency; partially transparent artists will be rendered opaque.\n"
     ]
    }
   ],
   "source": [
    "lr_univariate_model_and_plot(num_polynomial_features=2, output_metric=df.norm_translation_error, model_feature=df.beta, feature_transform=lambda x: x)"
   ]
  },
  {
   "cell_type": "code",
   "execution_count": 8,
   "metadata": {
    "scrolled": false
   },
   "outputs": [
    {
     "data": {
      "text/markdown": [
       "### Univariate Linear Regression Model"
      ],
      "text/plain": [
       "<IPython.core.display.Markdown object>"
      ]
     },
     "metadata": {},
     "output_type": "display_data"
    },
    {
     "data": {
      "text/markdown": [
       "           slam_node |      r2"
      ],
      "text/plain": [
       "<IPython.core.display.Markdown object>"
      ]
     },
     "metadata": {},
     "output_type": "display_data"
    },
    {
     "data": {
      "text/markdown": [
       "            gmapping | +0.9840"
      ],
      "text/plain": [
       "<IPython.core.display.Markdown object>"
      ]
     },
     "metadata": {},
     "output_type": "display_data"
    },
    {
     "data": {
      "text/markdown": [
       "        slam_toolbox | +0.9928"
      ],
      "text/plain": [
       "<IPython.core.display.Markdown object>"
      ]
     },
     "metadata": {},
     "output_type": "display_data"
    },
    {
     "name": "stderr",
     "output_type": "stream",
     "text": [
      "The PostScript backend does not support transparency; partially transparent artists will be rendered opaque.\n",
      "The PostScript backend does not support transparency; partially transparent artists will be rendered opaque.\n"
     ]
    }
   ],
   "source": [
    "lr_univariate_model_and_plot(num_polynomial_features=2, output_metric=df.norm_translation_error, model_feature=df.tgs, feature_transform=lambda x: x)"
   ]
  },
  {
   "cell_type": "code",
   "execution_count": 9,
   "metadata": {
    "scrolled": false
   },
   "outputs": [
    {
     "data": {
      "text/markdown": [
       "### Univariate Linear Regression Model"
      ],
      "text/plain": [
       "<IPython.core.display.Markdown object>"
      ]
     },
     "metadata": {},
     "output_type": "display_data"
    },
    {
     "data": {
      "text/markdown": [
       "           slam_node |      r2"
      ],
      "text/plain": [
       "<IPython.core.display.Markdown object>"
      ]
     },
     "metadata": {},
     "output_type": "display_data"
    },
    {
     "data": {
      "text/markdown": [
       "            gmapping | +0.9328"
      ],
      "text/plain": [
       "<IPython.core.display.Markdown object>"
      ]
     },
     "metadata": {},
     "output_type": "display_data"
    },
    {
     "data": {
      "text/markdown": [
       "        slam_toolbox | +0.6169"
      ],
      "text/plain": [
       "<IPython.core.display.Markdown object>"
      ]
     },
     "metadata": {},
     "output_type": "display_data"
    },
    {
     "name": "stderr",
     "output_type": "stream",
     "text": [
      "The PostScript backend does not support transparency; partially transparent artists will be rendered opaque.\n",
      "The PostScript backend does not support transparency; partially transparent artists will be rendered opaque.\n"
     ]
    }
   ],
   "source": [
    "lr_univariate_model_and_plot(num_polynomial_features=2, output_metric=df.norm_translation_error, model_feature=df.accumulated_trajectory_length, feature_transform=lambda x: x)"
   ]
  }
 ],
 "metadata": {
  "kernelspec": {
   "display_name": "Python 3",
   "language": "python",
   "name": "python3"
  },
  "language_info": {
   "codemirror_mode": {
    "name": "ipython",
    "version": 3
   },
   "file_extension": ".py",
   "mimetype": "text/x-python",
   "name": "python",
   "nbconvert_exporter": "python",
   "pygments_lexer": "ipython3",
   "version": "3.8.10"
  }
 },
 "nbformat": 4,
 "nbformat_minor": 4
}
