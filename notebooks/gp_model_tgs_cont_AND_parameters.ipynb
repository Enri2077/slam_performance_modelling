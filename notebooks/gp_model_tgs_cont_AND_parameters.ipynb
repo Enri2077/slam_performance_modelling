{
 "cells": [
  {
   "cell_type": "code",
   "execution_count": 1,
   "metadata": {},
   "outputs": [
    {
     "data": {
      "text/html": [
       "<style>.container { width:100% !important; }</style>"
      ],
      "text/plain": [
       "<IPython.core.display.HTML object>"
      ]
     },
     "metadata": {},
     "output_type": "display_data"
    }
   ],
   "source": [
    "from IPython.core.display import Markdown, display, HTML\n",
    "display(HTML(\"<style>.container { width:100% !important; }</style>\"))\n",
    "import ipywidgets as widgets\n",
    "from ipywidgets import interact, interact_manual\n",
    "\n",
    "import traceback\n",
    "import numpy as np\n",
    "import scipy.stats as ss\n",
    "import itertools\n",
    "from os import path\n",
    "import pickle\n",
    "from sklearn.linear_model import LinearRegression, TheilSenRegressor, RANSACRegressor, HuberRegressor\n",
    "from sklearn.metrics import mean_squared_error, r2_score\n",
    "from sklearn.preprocessing import PolynomialFeatures, StandardScaler\n",
    "from sklearn.pipeline import make_pipeline\n",
    "import sklearn.gaussian_process as gp\n",
    "\n",
    "import matplotlib.pyplot as plt\n",
    "plt.rcParams['figure.figsize'] = [13, 13]\n",
    "\n",
    "import pandas as pd\n",
    "pd.options.display.width = 500\n",
    "\n",
    "slam_node_colors = {'gmapping': 'orange', 'slam_toolbox': 'blue', 'hector_slam': 'cyan'}\n"
   ]
  },
  {
   "cell_type": "code",
   "execution_count": 2,
   "metadata": {},
   "outputs": [],
   "source": [
    "def load_cache(file_path):\n",
    "    with open(path.expanduser(file_path), 'rb') as f:\n",
    "        cache_dict = pickle.load(f)\n",
    "        return cache_dict['df']\n",
    "\n",
    "def printmd(*args):\n",
    "    display(Markdown(' '.join(map(str, args))))"
   ]
  },
  {
   "cell_type": "code",
   "execution_count": 3,
   "metadata": {
    "scrolled": false
   },
   "outputs": [
    {
     "data": {
      "text/markdown": [
       "## Parameters and Their Values"
      ],
      "text/plain": [
       "<IPython.core.display.Markdown object>"
      ]
     },
     "metadata": {},
     "output_type": "display_data"
    },
    {
     "data": {
      "text/markdown": [
       "               laser_scan_max_range [3.5, 8.0, 15.0, 30.0]"
      ],
      "text/plain": [
       "<IPython.core.display.Markdown object>"
      ]
     },
     "metadata": {},
     "output_type": "display_data"
    },
    {
     "data": {
      "text/markdown": [
       "                 laser_scan_fov_deg [90, 180, 270, 359]"
      ],
      "text/plain": [
       "<IPython.core.display.Markdown object>"
      ]
     },
     "metadata": {},
     "output_type": "display_data"
    },
    {
     "data": {
      "text/markdown": [
       "                               beta [0.0, 0.5, 1.0, 1.5, 2.0]"
      ],
      "text/plain": [
       "<IPython.core.display.Markdown object>"
      ]
     },
     "metadata": {},
     "output_type": "display_data"
    },
    {
     "data": {
      "text/markdown": [
       "                         start_time [0, 1, 2, 3, 4, 5, 6, 7, 8, 9]"
      ],
      "text/plain": [
       "<IPython.core.display.Markdown object>"
      ]
     },
     "metadata": {},
     "output_type": "display_data"
    },
    {
     "data": {
      "text/markdown": [
       "      accumulated_trajectory_length [0, 1, 2, 3, 4]"
      ],
      "text/plain": [
       "<IPython.core.display.Markdown object>"
      ]
     },
     "metadata": {},
     "output_type": "display_data"
    },
    {
     "data": {
      "text/markdown": [
       "                                tgs [0, 1, 2, 3, 4]"
      ],
      "text/plain": [
       "<IPython.core.display.Markdown object>"
      ]
     },
     "metadata": {},
     "output_type": "display_data"
    },
    {
     "data": {
      "text/markdown": [
       "                                lvr [0.0, 1.0, 2.0, 3.0, 4.0, 5.0, 6.0, 7.0, 8.0, 9.0]"
      ],
      "text/plain": [
       "<IPython.core.display.Markdown object>"
      ]
     },
     "metadata": {},
     "output_type": "display_data"
    },
    {
     "data": {
      "text/markdown": [
       "                          slam_node ['gmapping', 'slam_toolbox']"
      ],
      "text/plain": [
       "<IPython.core.display.Markdown object>"
      ]
     },
     "metadata": {},
     "output_type": "display_data"
    },
    {
     "data": {
      "text/markdown": [
       "                   environment_name ['7A-2', 'airlab', 'fr079', 'office_b']"
      ],
      "text/plain": [
       "<IPython.core.display.Markdown object>"
      ]
     },
     "metadata": {},
     "output_type": "display_data"
    }
   ],
   "source": [
    "# load data from cache and rename columns\n",
    "df_new_config = load_cache(\"/home/enrico/ds/performance_modelling/output/slam_new_config/run_data_per_waypoint_cache.pkl\")\n",
    "df_many_odoms = load_cache(\"/home/enrico/ds/performance_modelling/output/slam_many_odoms/run_data_per_waypoint_cache.pkl\")\n",
    "df = df_new_config.append(df_many_odoms, ignore_index=True, sort=False)\n",
    "\n",
    "df.rename(inplace=True, columns={\n",
    "    'trajectory_length_trajectory_length': 'trajectory_length',\n",
    "    'waypoint_relative_localization_error_translation_error_final': 'translation_error',\n",
    "    'waypoint_absolute_localization_error_absolute_translation_error_start': 'absolute_translation_error',\n",
    "    'waypoint_relative_localization_error_rotation_error_final': 'rotation_error',\n",
    "    'geometric_similarity_sensor_mean_of_translation_eigenvalues_ratio_all': 'tgs_cont',\n",
    "    'lidar_visibility_mean_visible_ranges_ratio': 'lvr_cont',\n",
    "    'waypoint_start_time': 'start_time_cont',\n",
    "})\n",
    "\n",
    "# refactor and extract additional parameters and metrics\n",
    "df['linear_update'] = df['linear_angular_update'].apply(lambda x: x[0])\n",
    "df['beta'] = df['beta'].apply(lambda x: max(x))\n",
    "df['norm_translation_error'] = df.translation_error / df.trajectory_length\n",
    "df['run_id'] = df['run_folder'].apply(lambda x: path.basename(x))\n",
    "df['waypoint_index'] = df.sort_values('start_time_cont').groupby(df.run_id).cumcount()\n",
    "df['accumulated_trajectory_length_cont'] = df.sort_values('start_time_cont').groupby(df.run_id).trajectory_length.cumsum() - df.trajectory_length\n",
    "df['session_id'] =  df['run_id'].apply(lambda x:  x.split('_')[1]+'_'+x.split('_')[2]+'_'+x.split('_')[3])\n",
    "df['run_number'] =  df['run_id'].apply(lambda x:  int(x.split('_')[5]))\n",
    "df['p'] = df.translation_error.apply(lambda x: x > 0.2)\n",
    "\n",
    "# discretize continuous input metrics\n",
    "df['tgs'] = pd.cut(df.tgs_cont, 5, labels=False)\n",
    "df['lvr'] = pd.cut(df.lvr_cont, 10, labels=False)\n",
    "df['start_time'] = pd.cut(df.start_time_cont, 10, labels=False)\n",
    "df['accumulated_trajectory_length'] = pd.cut(df.accumulated_trajectory_length_cont, 5, labels=False)\n",
    "\n",
    "# drop unnecessary datapoints\n",
    "# df = df[(\n",
    "#     ((df.slam_node == 'gmapping') | (df.slam_node == 'slam_toolbox')) & (df.linear_update == 0.5) #|\n",
    "# #     (df.slam_node == 'hector_slam') & (df.linear_update == 0.4)\n",
    "# )]\n",
    "df = df[((df.slam_node == 'gmapping') | (df.slam_node == 'slam_toolbox')) & (df.linear_update == 0.5)]\n",
    "df = df[df.trajectory_length > 1]\n",
    "df = df[df.absolute_translation_error < 5]\n",
    "\n",
    "# only keep necessary columns\n",
    "robot_parameters = [\n",
    "    'laser_scan_max_range',\n",
    "    'laser_scan_fov_deg',\n",
    "    'beta',\n",
    "]\n",
    "other_parameters = [\n",
    "    'run_absolute_start_time',\n",
    "    'session_id',\n",
    "    'run_number',\n",
    "    'run_id',\n",
    "    'slam_node',\n",
    "    'environment_name',\n",
    "]\n",
    "input_discretized_metrics = [\n",
    "    'start_time',\n",
    "    'accumulated_trajectory_length',\n",
    "    'tgs',\n",
    "    'lvr',\n",
    "]\n",
    "input_continuous_metrics = [\n",
    "    'waypoint_index',\n",
    "    'start_time_cont',\n",
    "    'tgs_cont',\n",
    "    'lvr_cont',\n",
    "]\n",
    "output_metrics = [\n",
    "    'norm_translation_error',\n",
    "    'absolute_translation_error',\n",
    "    'p',\n",
    "]\n",
    "df = df[\n",
    "    robot_parameters +\n",
    "    other_parameters +\n",
    "    input_discretized_metrics +\n",
    "    input_continuous_metrics +\n",
    "    output_metrics\n",
    "]\n",
    "\n",
    "mrs = sorted(list(df.laser_scan_max_range.unique()))\n",
    "fovs = sorted(list(df.laser_scan_fov_deg.unique()))\n",
    "betas = sorted(list(df.beta.unique()))\n",
    "betas_fovs = list(itertools.product(betas, fovs))\n",
    "\n",
    "printmd(\"## Parameters and Their Values\")\n",
    "for c in robot_parameters + input_discretized_metrics + ['slam_node', 'environment_name',]:\n",
    "    printmd(\"{:>35}\".format(c), sorted(list(df[c].unique())))"
   ]
  },
  {
   "cell_type": "code",
   "execution_count": 4,
   "metadata": {
    "scrolled": true
   },
   "outputs": [
    {
     "data": {
      "text/markdown": [
       "### Model from aggregated datapoints"
      ],
      "text/plain": [
       "<IPython.core.display.Markdown object>"
      ]
     },
     "metadata": {},
     "output_type": "display_data"
    },
    {
     "data": {
      "text/markdown": [
       "           slam_node |  r2_agg |  r2_all"
      ],
      "text/plain": [
       "<IPython.core.display.Markdown object>"
      ]
     },
     "metadata": {},
     "output_type": "display_data"
    },
    {
     "name": "stdout",
     "output_type": "stream",
     "text": [
      "len(X_agg) 79059\n"
     ]
    },
    {
     "data": {
      "text/markdown": [
       "### Model from all datapoints"
      ],
      "text/plain": [
       "<IPython.core.display.Markdown object>"
      ]
     },
     "metadata": {},
     "output_type": "display_data"
    },
    {
     "data": {
      "text/markdown": [
       "           slam_node |  r2_agg |  r2_all"
      ],
      "text/plain": [
       "<IPython.core.display.Markdown object>"
      ]
     },
     "metadata": {},
     "output_type": "display_data"
    },
    {
     "name": "stderr",
     "output_type": "stream",
     "text": [
      "/home/enrico/.local/lib/python3.8/site-packages/sklearn/gaussian_process/kernels.py:402: ConvergenceWarning: The optimal value found for dimension 0 of parameter sigma_0 is close to the specified lower bound 1e-100. Decreasing the bound and calling fit again may find a better value.\n",
      "  warnings.warn(\"The optimal value found for \"\n"
     ]
    },
    {
     "data": {
      "text/markdown": [
       "            gmapping | +0.1226946645"
      ],
      "text/plain": [
       "<IPython.core.display.Markdown object>"
      ]
     },
     "metadata": {},
     "output_type": "display_data"
    },
    {
     "data": {
      "text/markdown": [
       "        slam_toolbox | +0.1263728191"
      ],
      "text/plain": [
       "<IPython.core.display.Markdown object>"
      ]
     },
     "metadata": {},
     "output_type": "display_data"
    }
   ],
   "source": [
    "num_polynomial_features = 2\n",
    "output_metric = df.norm_translation_error\n",
    "\n",
    "model_agg = dict()\n",
    "model_all = dict()\n",
    "\n",
    "model_features = [\n",
    "    'laser_scan_max_range',\n",
    "    'laser_scan_fov_deg',\n",
    "    'beta',\n",
    "    'tgs_cont',\n",
    "]\n",
    "\n",
    "df['model_features'] = list(zip(df.laser_scan_max_range, df.laser_scan_fov_deg, df.beta, df.tgs_cont))\n",
    "\n",
    "def features_transform(laser_scan_max_range, laser_scan_fov_deg, beta, tgs_cont):\n",
    "    return np.array([1/laser_scan_max_range, 1/laser_scan_fov_deg, beta, tgs_cont])\n",
    "\n",
    "def output_transform(y):\n",
    "    return np.log(np.array(y))\n",
    "\n",
    "df_agg = dict()\n",
    "\n",
    "df_subsampled = df.sample(n=int(len(df)/50.0), random_state=0)\n",
    "\n",
    "printmd(\"### Model from aggregated datapoints\")\n",
    "printmd(f\"{'slam_node':>20} | {'r2_agg':>7} | {'r2_all':>7}\")\n",
    "for slam_node in df.slam_node.unique():\n",
    "    \n",
    "    df_agg[slam_node] = df[df.slam_node == slam_node].groupby(model_features).mean()[output_metric.name]\n",
    "    \n",
    "    X_agg = features_transform(*np.array(list(df_agg[slam_node].index.values)).T).T\n",
    "    y_agg = df_agg[slam_node].values\n",
    "    print(\"len(X_agg)\", len(X_agg))\n",
    "    break\n",
    "    \n",
    "    kernel = gp.kernels.DotProduct(sigma_0=1.0, sigma_0_bounds=(1e-100, 100000.0))\n",
    "    gp_model = gp.GaussianProcessRegressor(kernel=kernel, n_restarts_optimizer=10, alpha=0.1, normalize_y=False)\n",
    "    \n",
    "    model_agg[slam_node] = make_pipeline(StandardScaler(), PolynomialFeatures(num_polynomial_features, interaction_only=False), gp_model)\n",
    "    model_agg[slam_node].fit(X_agg, y_agg);\n",
    "\n",
    "    y_pred_agg = model_agg[slam_node].predict(X_agg)\n",
    "    r2_agg = r2_score(y_agg, y_pred_agg)\n",
    "    \n",
    "    printmd(f\"{slam_node:>20} | {r2_agg:+0.10f}\")\n",
    "\n",
    "\n",
    "printmd(\"### Model from all datapoints\")\n",
    "printmd(f\"{'slam_node':>20} | {'r2_agg':>7} | {'r2_all':>7}\")\n",
    "\n",
    "\n",
    "for slam_node in df.slam_node.unique():\n",
    "\n",
    "#     df_agg[slam_node] = df[df.slam_node == slam_node].groupby(model_features).mean()[output_metric.name]\n",
    "\n",
    "#     X_agg = features_transform(*np.array(list(df_agg[slam_node].index.values)).T).T\n",
    "#     y_agg = df_agg[slam_node].values\n",
    "\n",
    "    X_all = features_transform(*np.array(list(df_subsampled[df_subsampled.slam_node == slam_node].model_features)).T).T\n",
    "    y_all = df_subsampled[df_subsampled.slam_node == slam_node][output_metric.name]\n",
    "\n",
    "    kernel = gp.kernels.DotProduct(sigma_0=1.0, sigma_0_bounds=(1e-100, 100000.0))\n",
    "    gp_model = gp.GaussianProcessRegressor(kernel=kernel, n_restarts_optimizer=10, alpha=0.1, normalize_y=False)\n",
    "    \n",
    "    model_all[slam_node] = make_pipeline(StandardScaler(), PolynomialFeatures(num_polynomial_features, interaction_only=False), gp_model)\n",
    "    model_all[slam_node].fit(X_all, y_all);\n",
    "\n",
    "#     y_pred_agg = model_all[slam_node].predict(X_agg)\n",
    "#     r2_agg = r2_score(y_agg, y_pred_agg)\n",
    "\n",
    "    y_pred_all = model_all[slam_node].predict(X_all)\n",
    "    r2_all = r2_score(y_all, y_pred_all)\n",
    "\n",
    "    printmd(f\"{slam_node:>20} | {r2_all:+0.10f}\")\n",
    "\n",
    "\n",
    "model = model_all\n",
    "\n"
   ]
  },
  {
   "cell_type": "code",
   "execution_count": 5,
   "metadata": {},
   "outputs": [
    {
     "ename": "TraitError",
     "evalue": "Invalid selection: value not found",
     "output_type": "error",
     "traceback": [
      "\u001b[0;31m---------------------------------------------------------------------------\u001b[0m",
      "\u001b[0;31mStopIteration\u001b[0m                             Traceback (most recent call last)",
      "\u001b[0;32m~/.local/lib/python3.8/site-packages/ipywidgets/widgets/widget_selection.py\u001b[0m in \u001b[0;36mfindvalue\u001b[0;34m(array, value, compare)\u001b[0m\n\u001b[1;32m    136\u001b[0m     \u001b[0;32mtry\u001b[0m\u001b[0;34m:\u001b[0m\u001b[0;34m\u001b[0m\u001b[0;34m\u001b[0m\u001b[0m\n\u001b[0;32m--> 137\u001b[0;31m         \u001b[0;32mreturn\u001b[0m \u001b[0mnext\u001b[0m\u001b[0;34m(\u001b[0m\u001b[0mx\u001b[0m \u001b[0;32mfor\u001b[0m \u001b[0mx\u001b[0m \u001b[0;32min\u001b[0m \u001b[0marray\u001b[0m \u001b[0;32mif\u001b[0m \u001b[0mcompare\u001b[0m\u001b[0;34m(\u001b[0m\u001b[0mx\u001b[0m\u001b[0;34m,\u001b[0m \u001b[0mvalue\u001b[0m\u001b[0;34m)\u001b[0m\u001b[0;34m)\u001b[0m\u001b[0;34m\u001b[0m\u001b[0;34m\u001b[0m\u001b[0m\n\u001b[0m\u001b[1;32m    138\u001b[0m     \u001b[0;32mexcept\u001b[0m \u001b[0mStopIteration\u001b[0m\u001b[0;34m:\u001b[0m\u001b[0;34m\u001b[0m\u001b[0;34m\u001b[0m\u001b[0m\n",
      "\u001b[0;31mStopIteration\u001b[0m: ",
      "\nDuring handling of the above exception, another exception occurred:\n",
      "\u001b[0;31mValueError\u001b[0m                                Traceback (most recent call last)",
      "\u001b[0;32m~/.local/lib/python3.8/site-packages/ipywidgets/widgets/widget_selection.py\u001b[0m in \u001b[0;36m_validate_value\u001b[0;34m(self, proposal)\u001b[0m\n\u001b[1;32m    240\u001b[0m         \u001b[0;32mtry\u001b[0m\u001b[0;34m:\u001b[0m\u001b[0;34m\u001b[0m\u001b[0;34m\u001b[0m\u001b[0m\n\u001b[0;32m--> 241\u001b[0;31m             \u001b[0;32mreturn\u001b[0m \u001b[0mfindvalue\u001b[0m\u001b[0;34m(\u001b[0m\u001b[0mself\u001b[0m\u001b[0;34m.\u001b[0m\u001b[0m_options_values\u001b[0m\u001b[0;34m,\u001b[0m \u001b[0mvalue\u001b[0m\u001b[0;34m,\u001b[0m \u001b[0mself\u001b[0m\u001b[0;34m.\u001b[0m\u001b[0mequals\u001b[0m\u001b[0;34m)\u001b[0m \u001b[0;32mif\u001b[0m \u001b[0mvalue\u001b[0m \u001b[0;32mis\u001b[0m \u001b[0;32mnot\u001b[0m \u001b[0;32mNone\u001b[0m \u001b[0;32melse\u001b[0m \u001b[0;32mNone\u001b[0m\u001b[0;34m\u001b[0m\u001b[0;34m\u001b[0m\u001b[0m\n\u001b[0m\u001b[1;32m    242\u001b[0m         \u001b[0;32mexcept\u001b[0m \u001b[0mValueError\u001b[0m\u001b[0;34m:\u001b[0m\u001b[0;34m\u001b[0m\u001b[0;34m\u001b[0m\u001b[0m\n",
      "\u001b[0;32m~/.local/lib/python3.8/site-packages/ipywidgets/widgets/widget_selection.py\u001b[0m in \u001b[0;36mfindvalue\u001b[0;34m(array, value, compare)\u001b[0m\n\u001b[1;32m    138\u001b[0m     \u001b[0;32mexcept\u001b[0m \u001b[0mStopIteration\u001b[0m\u001b[0;34m:\u001b[0m\u001b[0;34m\u001b[0m\u001b[0;34m\u001b[0m\u001b[0m\n\u001b[0;32m--> 139\u001b[0;31m         \u001b[0;32mraise\u001b[0m \u001b[0mValueError\u001b[0m\u001b[0;34m(\u001b[0m\u001b[0;34m'%r not in array'\u001b[0m\u001b[0;34m%\u001b[0m\u001b[0mvalue\u001b[0m\u001b[0;34m)\u001b[0m\u001b[0;34m\u001b[0m\u001b[0;34m\u001b[0m\u001b[0m\n\u001b[0m\u001b[1;32m    140\u001b[0m \u001b[0;34m\u001b[0m\u001b[0m\n",
      "\u001b[0;31mValueError\u001b[0m: 4 not in array",
      "\nDuring handling of the above exception, another exception occurred:\n",
      "\u001b[0;31mTraitError\u001b[0m                                Traceback (most recent call last)",
      "\u001b[0;32m<ipython-input-5-0bada3412185>\u001b[0m in \u001b[0;36m<module>\u001b[0;34m\u001b[0m\n\u001b[1;32m     54\u001b[0m              \u001b[0mreadout\u001b[0m\u001b[0;34m=\u001b[0m\u001b[0;32mTrue\u001b[0m\u001b[0;34m\u001b[0m\u001b[0;34m\u001b[0m\u001b[0m\n\u001b[1;32m     55\u001b[0m          ),\n\u001b[0;32m---> 56\u001b[0;31m          tgs_cont=widgets.SelectionSlider(\n\u001b[0m\u001b[1;32m     57\u001b[0m              \u001b[0moptions\u001b[0m\u001b[0;34m=\u001b[0m\u001b[0msorted\u001b[0m\u001b[0;34m(\u001b[0m\u001b[0mlist\u001b[0m\u001b[0;34m(\u001b[0m\u001b[0mdf\u001b[0m\u001b[0;34m.\u001b[0m\u001b[0mtgs_cont\u001b[0m\u001b[0;34m.\u001b[0m\u001b[0munique\u001b[0m\u001b[0;34m(\u001b[0m\u001b[0;34m)\u001b[0m\u001b[0;34m)\u001b[0m\u001b[0;34m)\u001b[0m\u001b[0;34m,\u001b[0m\u001b[0;34m\u001b[0m\u001b[0;34m\u001b[0m\u001b[0m\n\u001b[1;32m     58\u001b[0m              \u001b[0mvalue\u001b[0m\u001b[0;34m=\u001b[0m\u001b[0;36m4\u001b[0m\u001b[0;34m,\u001b[0m\u001b[0;34m\u001b[0m\u001b[0;34m\u001b[0m\u001b[0m\n",
      "\u001b[0;32m~/.local/lib/python3.8/site-packages/ipywidgets/widgets/widget_selection.py\u001b[0m in \u001b[0;36m__init__\u001b[0;34m(self, *args, **kwargs)\u001b[0m\n\u001b[1;32m    529\u001b[0m         \u001b[0;32mif\u001b[0m \u001b[0mlen\u001b[0m\u001b[0;34m(\u001b[0m\u001b[0mkwargs\u001b[0m\u001b[0;34m.\u001b[0m\u001b[0mget\u001b[0m\u001b[0;34m(\u001b[0m\u001b[0;34m'options'\u001b[0m\u001b[0;34m,\u001b[0m \u001b[0;34m(\u001b[0m\u001b[0;34m)\u001b[0m\u001b[0;34m)\u001b[0m\u001b[0;34m)\u001b[0m \u001b[0;34m==\u001b[0m \u001b[0;36m0\u001b[0m\u001b[0;34m:\u001b[0m\u001b[0;34m\u001b[0m\u001b[0;34m\u001b[0m\u001b[0m\n\u001b[1;32m    530\u001b[0m             \u001b[0;32mraise\u001b[0m \u001b[0mTraitError\u001b[0m\u001b[0;34m(\u001b[0m\u001b[0;34m'options must be nonempty'\u001b[0m\u001b[0;34m)\u001b[0m\u001b[0;34m\u001b[0m\u001b[0;34m\u001b[0m\u001b[0m\n\u001b[0;32m--> 531\u001b[0;31m         \u001b[0msuper\u001b[0m\u001b[0;34m(\u001b[0m\u001b[0m_SelectionNonempty\u001b[0m\u001b[0;34m,\u001b[0m \u001b[0mself\u001b[0m\u001b[0;34m)\u001b[0m\u001b[0;34m.\u001b[0m\u001b[0m__init__\u001b[0m\u001b[0;34m(\u001b[0m\u001b[0;34m*\u001b[0m\u001b[0margs\u001b[0m\u001b[0;34m,\u001b[0m \u001b[0;34m**\u001b[0m\u001b[0mkwargs\u001b[0m\u001b[0;34m)\u001b[0m\u001b[0;34m\u001b[0m\u001b[0;34m\u001b[0m\u001b[0m\n\u001b[0m\u001b[1;32m    532\u001b[0m \u001b[0;34m\u001b[0m\u001b[0m\n\u001b[1;32m    533\u001b[0m     \u001b[0;34m@\u001b[0m\u001b[0mvalidate\u001b[0m\u001b[0;34m(\u001b[0m\u001b[0;34m'options'\u001b[0m\u001b[0;34m)\u001b[0m\u001b[0;34m\u001b[0m\u001b[0;34m\u001b[0m\u001b[0m\n",
      "\u001b[0;32m~/.local/lib/python3.8/site-packages/ipywidgets/widgets/widget_selection.py\u001b[0m in \u001b[0;36m__init__\u001b[0;34m(self, *args, **kwargs)\u001b[0m\n\u001b[1;32m    188\u001b[0m             \u001b[0mkwargs\u001b[0m\u001b[0;34m[\u001b[0m\u001b[0;34m'label'\u001b[0m\u001b[0;34m]\u001b[0m\u001b[0;34m,\u001b[0m \u001b[0mkwargs\u001b[0m\u001b[0;34m[\u001b[0m\u001b[0;34m'value'\u001b[0m\u001b[0;34m]\u001b[0m \u001b[0;34m=\u001b[0m \u001b[0moptions\u001b[0m\u001b[0;34m[\u001b[0m\u001b[0;36m0\u001b[0m\u001b[0;34m]\u001b[0m \u001b[0;32mif\u001b[0m \u001b[0mnonempty\u001b[0m \u001b[0;32melse\u001b[0m \u001b[0;34m(\u001b[0m\u001b[0;32mNone\u001b[0m\u001b[0;34m,\u001b[0m \u001b[0;32mNone\u001b[0m\u001b[0;34m)\u001b[0m\u001b[0;34m\u001b[0m\u001b[0;34m\u001b[0m\u001b[0m\n\u001b[1;32m    189\u001b[0m \u001b[0;34m\u001b[0m\u001b[0m\n\u001b[0;32m--> 190\u001b[0;31m         \u001b[0msuper\u001b[0m\u001b[0;34m(\u001b[0m\u001b[0m_Selection\u001b[0m\u001b[0;34m,\u001b[0m \u001b[0mself\u001b[0m\u001b[0;34m)\u001b[0m\u001b[0;34m.\u001b[0m\u001b[0m__init__\u001b[0m\u001b[0;34m(\u001b[0m\u001b[0;34m*\u001b[0m\u001b[0margs\u001b[0m\u001b[0;34m,\u001b[0m \u001b[0;34m**\u001b[0m\u001b[0mkwargs\u001b[0m\u001b[0;34m)\u001b[0m\u001b[0;34m\u001b[0m\u001b[0;34m\u001b[0m\u001b[0m\n\u001b[0m\u001b[1;32m    191\u001b[0m         \u001b[0mself\u001b[0m\u001b[0;34m.\u001b[0m\u001b[0m_initializing_traits_\u001b[0m \u001b[0;34m=\u001b[0m \u001b[0;32mFalse\u001b[0m\u001b[0;34m\u001b[0m\u001b[0;34m\u001b[0m\u001b[0m\n\u001b[1;32m    192\u001b[0m \u001b[0;34m\u001b[0m\u001b[0m\n",
      "\u001b[0;32m~/.local/lib/python3.8/site-packages/ipywidgets/widgets/widget.py\u001b[0m in \u001b[0;36m__init__\u001b[0;34m(self, **kwargs)\u001b[0m\n\u001b[1;32m    410\u001b[0m         \u001b[0;34m\"\"\"Public constructor\"\"\"\u001b[0m\u001b[0;34m\u001b[0m\u001b[0;34m\u001b[0m\u001b[0m\n\u001b[1;32m    411\u001b[0m         \u001b[0mself\u001b[0m\u001b[0;34m.\u001b[0m\u001b[0m_model_id\u001b[0m \u001b[0;34m=\u001b[0m \u001b[0mkwargs\u001b[0m\u001b[0;34m.\u001b[0m\u001b[0mpop\u001b[0m\u001b[0;34m(\u001b[0m\u001b[0;34m'model_id'\u001b[0m\u001b[0;34m,\u001b[0m \u001b[0;32mNone\u001b[0m\u001b[0;34m)\u001b[0m\u001b[0;34m\u001b[0m\u001b[0;34m\u001b[0m\u001b[0m\n\u001b[0;32m--> 412\u001b[0;31m         \u001b[0msuper\u001b[0m\u001b[0;34m(\u001b[0m\u001b[0mWidget\u001b[0m\u001b[0;34m,\u001b[0m \u001b[0mself\u001b[0m\u001b[0;34m)\u001b[0m\u001b[0;34m.\u001b[0m\u001b[0m__init__\u001b[0m\u001b[0;34m(\u001b[0m\u001b[0;34m**\u001b[0m\u001b[0mkwargs\u001b[0m\u001b[0;34m)\u001b[0m\u001b[0;34m\u001b[0m\u001b[0;34m\u001b[0m\u001b[0m\n\u001b[0m\u001b[1;32m    413\u001b[0m \u001b[0;34m\u001b[0m\u001b[0m\n\u001b[1;32m    414\u001b[0m         \u001b[0mWidget\u001b[0m\u001b[0;34m.\u001b[0m\u001b[0m_call_widget_constructed\u001b[0m\u001b[0;34m(\u001b[0m\u001b[0mself\u001b[0m\u001b[0;34m)\u001b[0m\u001b[0;34m\u001b[0m\u001b[0;34m\u001b[0m\u001b[0m\n",
      "\u001b[0;32m~/.local/lib/python3.8/site-packages/traitlets/traitlets.py\u001b[0m in \u001b[0;36m__init__\u001b[0;34m(self, *args, **kwargs)\u001b[0m\n\u001b[1;32m   1078\u001b[0m                 \u001b[0;32melse\u001b[0m\u001b[0;34m:\u001b[0m\u001b[0;34m\u001b[0m\u001b[0;34m\u001b[0m\u001b[0m\n\u001b[1;32m   1079\u001b[0m                     \u001b[0;31m# passthrough args that don't set traits to super\u001b[0m\u001b[0;34m\u001b[0m\u001b[0;34m\u001b[0m\u001b[0;34m\u001b[0m\u001b[0m\n\u001b[0;32m-> 1080\u001b[0;31m                     \u001b[0msuper_kwargs\u001b[0m\u001b[0;34m[\u001b[0m\u001b[0mkey\u001b[0m\u001b[0;34m]\u001b[0m \u001b[0;34m=\u001b[0m \u001b[0mvalue\u001b[0m\u001b[0;34m\u001b[0m\u001b[0;34m\u001b[0m\u001b[0m\n\u001b[0m\u001b[1;32m   1081\u001b[0m         \u001b[0;32mtry\u001b[0m\u001b[0;34m:\u001b[0m\u001b[0;34m\u001b[0m\u001b[0;34m\u001b[0m\u001b[0m\n\u001b[1;32m   1082\u001b[0m             \u001b[0msuper\u001b[0m\u001b[0;34m(\u001b[0m\u001b[0mHasTraits\u001b[0m\u001b[0;34m,\u001b[0m \u001b[0mself\u001b[0m\u001b[0;34m)\u001b[0m\u001b[0;34m.\u001b[0m\u001b[0m__init__\u001b[0m\u001b[0;34m(\u001b[0m\u001b[0;34m*\u001b[0m\u001b[0msuper_args\u001b[0m\u001b[0;34m,\u001b[0m \u001b[0;34m**\u001b[0m\u001b[0msuper_kwargs\u001b[0m\u001b[0;34m)\u001b[0m\u001b[0;34m\u001b[0m\u001b[0;34m\u001b[0m\u001b[0m\n",
      "\u001b[0;32m/usr/lib/python3.8/contextlib.py\u001b[0m in \u001b[0;36m__exit__\u001b[0;34m(self, type, value, traceback)\u001b[0m\n\u001b[1;32m    118\u001b[0m         \u001b[0;32mif\u001b[0m \u001b[0mtype\u001b[0m \u001b[0;32mis\u001b[0m \u001b[0;32mNone\u001b[0m\u001b[0;34m:\u001b[0m\u001b[0;34m\u001b[0m\u001b[0;34m\u001b[0m\u001b[0m\n\u001b[1;32m    119\u001b[0m             \u001b[0;32mtry\u001b[0m\u001b[0;34m:\u001b[0m\u001b[0;34m\u001b[0m\u001b[0;34m\u001b[0m\u001b[0m\n\u001b[0;32m--> 120\u001b[0;31m                 \u001b[0mnext\u001b[0m\u001b[0;34m(\u001b[0m\u001b[0mself\u001b[0m\u001b[0;34m.\u001b[0m\u001b[0mgen\u001b[0m\u001b[0;34m)\u001b[0m\u001b[0;34m\u001b[0m\u001b[0;34m\u001b[0m\u001b[0m\n\u001b[0m\u001b[1;32m    121\u001b[0m             \u001b[0;32mexcept\u001b[0m \u001b[0mStopIteration\u001b[0m\u001b[0;34m:\u001b[0m\u001b[0;34m\u001b[0m\u001b[0;34m\u001b[0m\u001b[0m\n\u001b[1;32m    122\u001b[0m                 \u001b[0;32mreturn\u001b[0m \u001b[0;32mFalse\u001b[0m\u001b[0;34m\u001b[0m\u001b[0;34m\u001b[0m\u001b[0m\n",
      "\u001b[0;32m~/.local/lib/python3.8/site-packages/traitlets/traitlets.py\u001b[0m in \u001b[0;36mhold_trait_notifications\u001b[0;34m(self)\u001b[0m\n\u001b[1;32m   1203\u001b[0m                                 \u001b[0mself\u001b[0m\u001b[0;34m.\u001b[0m\u001b[0m_trait_values\u001b[0m\u001b[0;34m.\u001b[0m\u001b[0mpop\u001b[0m\u001b[0;34m(\u001b[0m\u001b[0mname\u001b[0m\u001b[0;34m)\u001b[0m\u001b[0;34m\u001b[0m\u001b[0;34m\u001b[0m\u001b[0m\n\u001b[1;32m   1204\u001b[0m                 \u001b[0mcache\u001b[0m \u001b[0;34m=\u001b[0m \u001b[0;34m{\u001b[0m\u001b[0;34m}\u001b[0m\u001b[0;34m\u001b[0m\u001b[0;34m\u001b[0m\u001b[0m\n\u001b[0;32m-> 1205\u001b[0;31m                 \u001b[0;32mraise\u001b[0m \u001b[0me\u001b[0m\u001b[0;34m\u001b[0m\u001b[0;34m\u001b[0m\u001b[0m\n\u001b[0m\u001b[1;32m   1206\u001b[0m             \u001b[0;32mfinally\u001b[0m\u001b[0;34m:\u001b[0m\u001b[0;34m\u001b[0m\u001b[0;34m\u001b[0m\u001b[0m\n\u001b[1;32m   1207\u001b[0m                 \u001b[0mself\u001b[0m\u001b[0;34m.\u001b[0m\u001b[0m_cross_validation_lock\u001b[0m \u001b[0;34m=\u001b[0m \u001b[0;32mFalse\u001b[0m\u001b[0;34m\u001b[0m\u001b[0;34m\u001b[0m\u001b[0m\n",
      "\u001b[0;32m~/.local/lib/python3.8/site-packages/traitlets/traitlets.py\u001b[0m in \u001b[0;36mhold_trait_notifications\u001b[0;34m(self)\u001b[0m\n\u001b[1;32m   1189\u001b[0m                 \u001b[0;32mfor\u001b[0m \u001b[0mname\u001b[0m \u001b[0;32min\u001b[0m \u001b[0mlist\u001b[0m\u001b[0;34m(\u001b[0m\u001b[0mcache\u001b[0m\u001b[0;34m.\u001b[0m\u001b[0mkeys\u001b[0m\u001b[0;34m(\u001b[0m\u001b[0;34m)\u001b[0m\u001b[0;34m)\u001b[0m\u001b[0;34m:\u001b[0m\u001b[0;34m\u001b[0m\u001b[0;34m\u001b[0m\u001b[0m\n\u001b[1;32m   1190\u001b[0m                     \u001b[0mtrait\u001b[0m \u001b[0;34m=\u001b[0m \u001b[0mgetattr\u001b[0m\u001b[0;34m(\u001b[0m\u001b[0mself\u001b[0m\u001b[0;34m.\u001b[0m\u001b[0m__class__\u001b[0m\u001b[0;34m,\u001b[0m \u001b[0mname\u001b[0m\u001b[0;34m)\u001b[0m\u001b[0;34m\u001b[0m\u001b[0;34m\u001b[0m\u001b[0m\n\u001b[0;32m-> 1191\u001b[0;31m                     \u001b[0mvalue\u001b[0m \u001b[0;34m=\u001b[0m \u001b[0mtrait\u001b[0m\u001b[0;34m.\u001b[0m\u001b[0m_cross_validate\u001b[0m\u001b[0;34m(\u001b[0m\u001b[0mself\u001b[0m\u001b[0;34m,\u001b[0m \u001b[0mgetattr\u001b[0m\u001b[0;34m(\u001b[0m\u001b[0mself\u001b[0m\u001b[0;34m,\u001b[0m \u001b[0mname\u001b[0m\u001b[0;34m)\u001b[0m\u001b[0;34m)\u001b[0m\u001b[0;34m\u001b[0m\u001b[0;34m\u001b[0m\u001b[0m\n\u001b[0m\u001b[1;32m   1192\u001b[0m                     \u001b[0mself\u001b[0m\u001b[0;34m.\u001b[0m\u001b[0mset_trait\u001b[0m\u001b[0;34m(\u001b[0m\u001b[0mname\u001b[0m\u001b[0;34m,\u001b[0m \u001b[0mvalue\u001b[0m\u001b[0;34m)\u001b[0m\u001b[0;34m\u001b[0m\u001b[0;34m\u001b[0m\u001b[0m\n\u001b[1;32m   1193\u001b[0m             \u001b[0;32mexcept\u001b[0m \u001b[0mTraitError\u001b[0m \u001b[0;32mas\u001b[0m \u001b[0me\u001b[0m\u001b[0;34m:\u001b[0m\u001b[0;34m\u001b[0m\u001b[0;34m\u001b[0m\u001b[0m\n",
      "\u001b[0;32m~/.local/lib/python3.8/site-packages/traitlets/traitlets.py\u001b[0m in \u001b[0;36m_cross_validate\u001b[0;34m(self, obj, value)\u001b[0m\n\u001b[1;32m    616\u001b[0m         \u001b[0;32mif\u001b[0m \u001b[0mself\u001b[0m\u001b[0;34m.\u001b[0m\u001b[0mname\u001b[0m \u001b[0;32min\u001b[0m \u001b[0mobj\u001b[0m\u001b[0;34m.\u001b[0m\u001b[0m_trait_validators\u001b[0m\u001b[0;34m:\u001b[0m\u001b[0;34m\u001b[0m\u001b[0;34m\u001b[0m\u001b[0m\n\u001b[1;32m    617\u001b[0m             \u001b[0mproposal\u001b[0m \u001b[0;34m=\u001b[0m \u001b[0mBunch\u001b[0m\u001b[0;34m(\u001b[0m\u001b[0;34m{\u001b[0m\u001b[0;34m'trait'\u001b[0m\u001b[0;34m:\u001b[0m \u001b[0mself\u001b[0m\u001b[0;34m,\u001b[0m \u001b[0;34m'value'\u001b[0m\u001b[0;34m:\u001b[0m \u001b[0mvalue\u001b[0m\u001b[0;34m,\u001b[0m \u001b[0;34m'owner'\u001b[0m\u001b[0;34m:\u001b[0m \u001b[0mobj\u001b[0m\u001b[0;34m}\u001b[0m\u001b[0;34m)\u001b[0m\u001b[0;34m\u001b[0m\u001b[0;34m\u001b[0m\u001b[0m\n\u001b[0;32m--> 618\u001b[0;31m             \u001b[0mvalue\u001b[0m \u001b[0;34m=\u001b[0m \u001b[0mobj\u001b[0m\u001b[0;34m.\u001b[0m\u001b[0m_trait_validators\u001b[0m\u001b[0;34m[\u001b[0m\u001b[0mself\u001b[0m\u001b[0;34m.\u001b[0m\u001b[0mname\u001b[0m\u001b[0;34m]\u001b[0m\u001b[0;34m(\u001b[0m\u001b[0mobj\u001b[0m\u001b[0;34m,\u001b[0m \u001b[0mproposal\u001b[0m\u001b[0;34m)\u001b[0m\u001b[0;34m\u001b[0m\u001b[0;34m\u001b[0m\u001b[0m\n\u001b[0m\u001b[1;32m    619\u001b[0m         \u001b[0;32melif\u001b[0m \u001b[0mhasattr\u001b[0m\u001b[0;34m(\u001b[0m\u001b[0mobj\u001b[0m\u001b[0;34m,\u001b[0m \u001b[0;34m'_%s_validate'\u001b[0m \u001b[0;34m%\u001b[0m \u001b[0mself\u001b[0m\u001b[0;34m.\u001b[0m\u001b[0mname\u001b[0m\u001b[0;34m)\u001b[0m\u001b[0;34m:\u001b[0m\u001b[0;34m\u001b[0m\u001b[0;34m\u001b[0m\u001b[0m\n\u001b[1;32m    620\u001b[0m             \u001b[0mmeth_name\u001b[0m \u001b[0;34m=\u001b[0m \u001b[0;34m'_%s_validate'\u001b[0m \u001b[0;34m%\u001b[0m \u001b[0mself\u001b[0m\u001b[0;34m.\u001b[0m\u001b[0mname\u001b[0m\u001b[0;34m\u001b[0m\u001b[0;34m\u001b[0m\u001b[0m\n",
      "\u001b[0;32m~/.local/lib/python3.8/site-packages/traitlets/traitlets.py\u001b[0m in \u001b[0;36m__call__\u001b[0;34m(self, *args, **kwargs)\u001b[0m\n\u001b[1;32m    973\u001b[0m         \u001b[0;34m\"\"\"Pass `*args` and `**kwargs` to the handler's function if it exists.\"\"\"\u001b[0m\u001b[0;34m\u001b[0m\u001b[0;34m\u001b[0m\u001b[0m\n\u001b[1;32m    974\u001b[0m         \u001b[0;32mif\u001b[0m \u001b[0mhasattr\u001b[0m\u001b[0;34m(\u001b[0m\u001b[0mself\u001b[0m\u001b[0;34m,\u001b[0m \u001b[0;34m'func'\u001b[0m\u001b[0;34m)\u001b[0m\u001b[0;34m:\u001b[0m\u001b[0;34m\u001b[0m\u001b[0;34m\u001b[0m\u001b[0m\n\u001b[0;32m--> 975\u001b[0;31m             \u001b[0;32mreturn\u001b[0m \u001b[0mself\u001b[0m\u001b[0;34m.\u001b[0m\u001b[0mfunc\u001b[0m\u001b[0;34m(\u001b[0m\u001b[0;34m*\u001b[0m\u001b[0margs\u001b[0m\u001b[0;34m,\u001b[0m \u001b[0;34m**\u001b[0m\u001b[0mkwargs\u001b[0m\u001b[0;34m)\u001b[0m\u001b[0;34m\u001b[0m\u001b[0;34m\u001b[0m\u001b[0m\n\u001b[0m\u001b[1;32m    976\u001b[0m         \u001b[0;32melse\u001b[0m\u001b[0;34m:\u001b[0m\u001b[0;34m\u001b[0m\u001b[0;34m\u001b[0m\u001b[0m\n\u001b[1;32m    977\u001b[0m             \u001b[0;32mreturn\u001b[0m \u001b[0mself\u001b[0m\u001b[0;34m.\u001b[0m\u001b[0m_init_call\u001b[0m\u001b[0;34m(\u001b[0m\u001b[0;34m*\u001b[0m\u001b[0margs\u001b[0m\u001b[0;34m,\u001b[0m \u001b[0;34m**\u001b[0m\u001b[0mkwargs\u001b[0m\u001b[0;34m)\u001b[0m\u001b[0;34m\u001b[0m\u001b[0;34m\u001b[0m\u001b[0m\n",
      "\u001b[0;32m~/.local/lib/python3.8/site-packages/ipywidgets/widgets/widget_selection.py\u001b[0m in \u001b[0;36m_validate_value\u001b[0;34m(self, proposal)\u001b[0m\n\u001b[1;32m    241\u001b[0m             \u001b[0;32mreturn\u001b[0m \u001b[0mfindvalue\u001b[0m\u001b[0;34m(\u001b[0m\u001b[0mself\u001b[0m\u001b[0;34m.\u001b[0m\u001b[0m_options_values\u001b[0m\u001b[0;34m,\u001b[0m \u001b[0mvalue\u001b[0m\u001b[0;34m,\u001b[0m \u001b[0mself\u001b[0m\u001b[0;34m.\u001b[0m\u001b[0mequals\u001b[0m\u001b[0;34m)\u001b[0m \u001b[0;32mif\u001b[0m \u001b[0mvalue\u001b[0m \u001b[0;32mis\u001b[0m \u001b[0;32mnot\u001b[0m \u001b[0;32mNone\u001b[0m \u001b[0;32melse\u001b[0m \u001b[0;32mNone\u001b[0m\u001b[0;34m\u001b[0m\u001b[0;34m\u001b[0m\u001b[0m\n\u001b[1;32m    242\u001b[0m         \u001b[0;32mexcept\u001b[0m \u001b[0mValueError\u001b[0m\u001b[0;34m:\u001b[0m\u001b[0;34m\u001b[0m\u001b[0;34m\u001b[0m\u001b[0m\n\u001b[0;32m--> 243\u001b[0;31m             \u001b[0;32mraise\u001b[0m \u001b[0mTraitError\u001b[0m\u001b[0;34m(\u001b[0m\u001b[0;34m'Invalid selection: value not found'\u001b[0m\u001b[0;34m)\u001b[0m\u001b[0;34m\u001b[0m\u001b[0;34m\u001b[0m\u001b[0m\n\u001b[0m\u001b[1;32m    244\u001b[0m \u001b[0;34m\u001b[0m\u001b[0m\n\u001b[1;32m    245\u001b[0m     \u001b[0;34m@\u001b[0m\u001b[0mobserve\u001b[0m\u001b[0;34m(\u001b[0m\u001b[0;34m'value'\u001b[0m\u001b[0;34m)\u001b[0m\u001b[0;34m\u001b[0m\u001b[0;34m\u001b[0m\u001b[0m\n",
      "\u001b[0;31mTraitError\u001b[0m: Invalid selection: value not found"
     ]
    }
   ],
   "source": [
    "import matplotlib.pyplot as plt\n",
    "\n",
    "n = 100\n",
    "def plot_func(laser_scan_fov_deg, beta, tgs_cont):\n",
    "    \n",
    "    \n",
    "    laser_scan_fov_deg_ls = np.array([laser_scan_fov_deg]*n)\n",
    "    beta_ls = np.array([beta]*n)\n",
    "    tgs_cont_ls = np.array([tgs_cont]*n)\n",
    "\n",
    "    laser_scan_max_range_ls = np.linspace(df.laser_scan_max_range.min(), df.laser_scan_max_range.max(), n)\n",
    "    laser_scan_max_range_values = df.laser_scan_max_range.unique()\n",
    "\n",
    "    X = features_transform(*np.array([laser_scan_max_range_ls, laser_scan_fov_deg_ls, beta_ls, tgs_cont_ls])).T\n",
    "\n",
    "    plt.figure(figsize=1.5*np.array([5, 5]))\n",
    "    for slam_node in df.slam_node.unique():\n",
    "        y_predict, y_std = model[slam_node].predict(X, return_std=True)\n",
    "        plt.plot(laser_scan_max_range_ls, y_predict, linewidth=3, color=slam_node_colors[slam_node], label=f\"{slam_node}, pred\")\n",
    "        plt.plot(laser_scan_max_range_ls, y_std, color=slam_node_colors[slam_node], alpha=0.5, label=f\"{slam_node}, pred std\")\n",
    "\n",
    "        plt.fill_between(laser_scan_max_range_ls, y_predict-y_std, y_predict+y_std, color=slam_node_colors[slam_node], alpha=0.5, label=f\"{slam_node}, pred std\")\n",
    "        df_plot = df[(df.slam_node == slam_node) & \n",
    "                     (df.laser_scan_fov_deg == laser_scan_fov_deg) & \n",
    "                     (df.beta == beta) &\n",
    "                     (df.tgs_cont == tgs_cont)\n",
    "                    ].groupby(df.laser_scan_max_range)[output_metric.name].mean()\n",
    "        plt.plot(df_plot.index, df_plot, '--o', color=slam_node_colors[slam_node], label=f\"{slam_node}, data\")\n",
    "    plt.xlim([df.laser_scan_max_range.min(), df.laser_scan_max_range.max()])\n",
    "    plt.ylim([0.0, 0.7])\n",
    "    plt.xlabel(\"laser scan max range\")\n",
    "    plt.ylabel(f\"{output_metric.name}\")\n",
    "    plt.legend()\n",
    "    plt.grid()\n",
    "    plt.show()\n",
    "\n",
    "interact(plot_func, \n",
    "         laser_scan_fov_deg=widgets.SelectionSlider(\n",
    "             options=sorted(list(df.laser_scan_fov_deg.unique())),\n",
    "             value=180,\n",
    "             description='laser_scan_fov_deg:',\n",
    "             disabled=False,\n",
    "             continuous_update=True,\n",
    "             orientation='horizontal',\n",
    "             readout=True\n",
    "         ),\n",
    "         beta=widgets.SelectionSlider(\n",
    "             options=sorted(list(df.beta.unique())),\n",
    "             value=2,\n",
    "             description='beta:',\n",
    "             disabled=False,\n",
    "             continuous_update=True,\n",
    "             orientation='horizontal',\n",
    "             readout=True\n",
    "         ),\n",
    "         tgs_cont=widgets.SelectionSlider(\n",
    "             options=sorted(list(df.tgs_cont.unique())),\n",
    "             value=4,\n",
    "             description='tgs_cont:',\n",
    "             disabled=False,\n",
    "             continuous_update=True,\n",
    "             orientation='horizontal',\n",
    "             readout=True\n",
    "         ),\n",
    ");"
   ]
  },
  {
   "cell_type": "code",
   "execution_count": null,
   "metadata": {
    "scrolled": false
   },
   "outputs": [],
   "source": [
    "import matplotlib.pyplot as plt\n",
    "# %matplotlib inline\n",
    "\n",
    "n = 100\n",
    "def plot_func(laser_scan_fov_deg, beta, tgs):\n",
    "    \n",
    "    plt.figure(figsize=1.5*np.array([5, 5]))\n",
    "    \n",
    "    laser_scan_fov_deg_ls = np.array([laser_scan_fov_deg]*n)\n",
    "    beta_ls = np.array([beta]*n)\n",
    "    tgs_ls = np.array([tgs]*n)\n",
    "\n",
    "    laser_scan_max_range_ls = np.linspace(df.laser_scan_max_range.min(), df.laser_scan_max_range.max(), n)\n",
    "    laser_scan_max_range_values = df.laser_scan_max_range.unique()\n",
    "\n",
    "    X = features_transform(*np.array([laser_scan_max_range_ls, laser_scan_fov_deg_ls, beta_ls, tgs_ls])).T\n",
    "\n",
    "    for slam_node in df.slam_node.unique():\n",
    "        y_predict, y_std = model[slam_node].predict(X, return_std=True)\n",
    "        plt.plot(laser_scan_max_range_ls, y_predict, linewidth=3, color=slam_node_colors[slam_node], label=f\"{slam_node}, pred\")\n",
    "        plt.fill_between(laser_scan_max_range_ls, y_predict-y_std, y_predict+y_std, color=slam_node_colors[slam_node], alpha=0.25, label=f\"{slam_node}, pred std\")\n",
    "\n",
    "        df_plot = df[(df.slam_node == slam_node) & \n",
    "                     (df.laser_scan_fov_deg == laser_scan_fov_deg) & \n",
    "                     (df.beta == beta) &\n",
    "                     (df.tgs == tgs)\n",
    "                    ].groupby(df.laser_scan_max_range)[output_metric.name].mean()\n",
    "        plt.plot(df_plot.index, df_plot, '--o', color=slam_node_colors[slam_node], label=f\"{slam_node}, data\")\n",
    "    plt.xlim([df.laser_scan_max_range.min(), df.laser_scan_max_range.max()])\n",
    "    plt.ylim([0.0, 0.3])\n",
    "    plt.xlabel(\"laser scan max range\")\n",
    "    plt.ylabel(f\"{output_metric.name}\")\n",
    "    plt.legend()\n",
    "    plt.grid()\n",
    "    plt.show()\n",
    "\n",
    "interact(plot_func, \n",
    "         laser_scan_fov_deg=widgets.SelectionSlider(\n",
    "             options=sorted(list(df.laser_scan_fov_deg.unique())),\n",
    "             value=df.laser_scan_fov_deg.min(),\n",
    "             description='laser_scan_fov_deg:',\n",
    "             disabled=False,\n",
    "             continuous_update=True,\n",
    "             orientation='horizontal',\n",
    "             readout=True\n",
    "         ),\n",
    "         beta=widgets.SelectionSlider(\n",
    "             options=sorted(list(df.beta.unique())),\n",
    "             value=df.beta.min(),\n",
    "             description='beta:',\n",
    "             disabled=False,\n",
    "             continuous_update=True,\n",
    "             orientation='horizontal',\n",
    "             readout=True\n",
    "         ),\n",
    "         tgs=widgets.SelectionSlider(\n",
    "             options=sorted(list(df.tgs.unique())),\n",
    "             value=df.tgs.min(),\n",
    "             description='tgs:',\n",
    "             disabled=False,\n",
    "             continuous_update=True,\n",
    "             orientation='horizontal',\n",
    "             readout=True\n",
    "         ),\n",
    ");"
   ]
  },
  {
   "cell_type": "code",
   "execution_count": null,
   "metadata": {},
   "outputs": [],
   "source": [
    "import matplotlib.pyplot as plt\n",
    "%matplotlib inline\n",
    "\n",
    "n = 100\n",
    "def plot_func(laser_scan_max_range, beta, tgs):\n",
    "    \n",
    "    plt.figure(figsize=1.5*np.array([5, 5]))\n",
    "    \n",
    "    laser_scan_max_range_ls = np.array([laser_scan_max_range]*n)\n",
    "    beta_ls = np.array([beta]*n)\n",
    "    tgs_ls = np.array([tgs]*n)\n",
    "\n",
    "    laser_scan_fov_deg_ls = np.linspace(df.laser_scan_fov_deg.min(), df.laser_scan_fov_deg.max(), n)\n",
    "    laser_scan_fov_deg_values = df.laser_scan_fov_deg.unique()\n",
    "\n",
    "    X = features_transform(*np.array([laser_scan_max_range_ls, laser_scan_fov_deg_ls, beta_ls, tgs_ls])).T\n",
    "\n",
    "    for slam_node in df.slam_node.unique():\n",
    "        y_predict = model[slam_node].predict(X)\n",
    "        plt.plot(laser_scan_fov_deg_ls, y_predict, linewidth=3, color=slam_node_colors[slam_node], label=f\"{slam_node}, pred\")\n",
    "\n",
    "        df_plot = df[(df.slam_node == slam_node) & \n",
    "                     (df.laser_scan_max_range == laser_scan_max_range) & \n",
    "                     (df.beta == beta) &\n",
    "                     (df.tgs == tgs)\n",
    "                    ].groupby(df.laser_scan_fov_deg)[output_metric.name].mean()\n",
    "        plt.plot(df_plot.index, df_plot, '--o', color=slam_node_colors[slam_node], label=f\"{slam_node}, data\")\n",
    "    plt.xlim([df.laser_scan_fov_deg.min(), df.laser_scan_fov_deg.max()])\n",
    "    plt.ylim([0.0, 0.7])\n",
    "    plt.xlabel(\"laser_scan_fov_deg\")\n",
    "    plt.ylabel(f\"{output_metric.name}\")\n",
    "    plt.legend()\n",
    "    plt.grid()\n",
    "    plt.show()\n",
    "\n",
    "interact(plot_func, \n",
    "         laser_scan_max_range=widgets.SelectionSlider(\n",
    "             options=sorted(list(df.laser_scan_max_range.unique())),\n",
    "             value=df.laser_scan_max_range.min(),\n",
    "             description='laser_scan_max_range:',\n",
    "             disabled=False,\n",
    "             continuous_update=True,\n",
    "             orientation='horizontal',\n",
    "             readout=True\n",
    "         ),\n",
    "         beta=widgets.SelectionSlider(\n",
    "             options=sorted(list(df.beta.unique())),\n",
    "             value=df.beta.min(),\n",
    "             description='beta:',\n",
    "             disabled=False,\n",
    "             continuous_update=True,\n",
    "             orientation='horizontal',\n",
    "             readout=True\n",
    "         ),\n",
    "         tgs=widgets.SelectionSlider(\n",
    "             options=sorted(list(df.tgs.unique())),\n",
    "             value=df.tgs.min(),\n",
    "             description='tgs:',\n",
    "             disabled=False,\n",
    "             continuous_update=True,\n",
    "             orientation='horizontal',\n",
    "             readout=True\n",
    "         ),\n",
    "\n",
    ");"
   ]
  },
  {
   "cell_type": "code",
   "execution_count": null,
   "metadata": {},
   "outputs": [],
   "source": [
    "import matplotlib.pyplot as plt\n",
    "%matplotlib inline\n",
    "\n",
    "n = 100\n",
    "def plot_func(laser_scan_max_range, beta, tgs):\n",
    "    \n",
    "    plt.figure(figsize=1.5*np.array([5, 5]))\n",
    "    \n",
    "    laser_scan_max_range_ls = np.array([laser_scan_max_range]*n)\n",
    "    beta_ls = np.array([beta]*n)\n",
    "    tgs_ls = np.array([tgs]*n)\n",
    "\n",
    "    laser_scan_fov_deg_ls = np.linspace(df.laser_scan_fov_deg.min(), df.laser_scan_fov_deg.max(), n)\n",
    "    laser_scan_fov_deg_values = df.laser_scan_fov_deg.unique()\n",
    "\n",
    "    X = features_transform(*np.array([laser_scan_max_range_ls, laser_scan_fov_deg_ls, beta_ls, tgs_ls])).T\n",
    "\n",
    "    for slam_node in df.slam_node.unique():\n",
    "#         y_predict = model[slam_node].predict(X)\n",
    "#         plt.plot(laser_scan_fov_deg_ls, y_predict, linewidth=3, color=slam_node_colors[slam_node], label=f\"{slam_node}, pred\")\n",
    "\n",
    "        df_plot = df[(df.slam_node == slam_node) & \n",
    "                     (df.laser_scan_max_range == laser_scan_max_range) & \n",
    "                     (df.beta == beta) &\n",
    "                     (df.tgs == tgs)\n",
    "                    ].groupby(df.laser_scan_fov_deg)[output_metric.name].std()\n",
    "        plt.plot(df_plot.index, df_plot, '--o', color=slam_node_colors[slam_node], label=f\"{slam_node}, data\")\n",
    "    plt.xlim([df.laser_scan_fov_deg.min(), df.laser_scan_fov_deg.max()])\n",
    "    plt.ylim([0.0, 0.7])\n",
    "    plt.xlabel(\"laser_scan_fov_deg\")\n",
    "    plt.ylabel(f\"{output_metric.name}\")\n",
    "    plt.legend()\n",
    "    plt.grid()\n",
    "    plt.show()\n",
    "\n",
    "interact(plot_func, \n",
    "         laser_scan_max_range=widgets.SelectionSlider(\n",
    "             options=sorted(list(df.laser_scan_max_range.unique())),\n",
    "             value=df.laser_scan_max_range.min(),\n",
    "             description='laser_scan_max_range:',\n",
    "             disabled=False,\n",
    "             continuous_update=True,\n",
    "             orientation='horizontal',\n",
    "             readout=True\n",
    "         ),\n",
    "         beta=widgets.SelectionSlider(\n",
    "             options=sorted(list(df.beta.unique())),\n",
    "             value=df.beta.min(),\n",
    "             description='beta:',\n",
    "             disabled=False,\n",
    "             continuous_update=True,\n",
    "             orientation='horizontal',\n",
    "             readout=True\n",
    "         ),\n",
    "         tgs=widgets.SelectionSlider(\n",
    "             options=sorted(list(df.tgs.unique())),\n",
    "             value=df.tgs.min(),\n",
    "             description='tgs:',\n",
    "             disabled=False,\n",
    "             continuous_update=True,\n",
    "             orientation='horizontal',\n",
    "             readout=True\n",
    "         ),\n",
    "\n",
    ");"
   ]
  },
  {
   "cell_type": "code",
   "execution_count": null,
   "metadata": {},
   "outputs": [],
   "source": [
    "import matplotlib.pyplot as plt\n",
    "%matplotlib inline\n",
    "\n",
    "n = 100\n",
    "def plot_func(laser_scan_max_range, laser_scan_fov_deg, tgs):\n",
    "    \n",
    "    plt.figure(figsize=1.5*np.array([5, 5]))\n",
    "    \n",
    "    laser_scan_max_range_ls = np.array([laser_scan_max_range]*n)\n",
    "    laser_scan_fov_deg_ls = np.array([laser_scan_fov_deg]*n)\n",
    "    tgs_ls = np.array([tgs]*n)\n",
    "\n",
    "    beta_ls = np.linspace(df.beta.min(), df.beta.max(), n)\n",
    "    beta_values = df.beta.unique()\n",
    "\n",
    "    X = features_transform(*np.array([laser_scan_max_range_ls, laser_scan_fov_deg_ls, beta_ls, tgs_ls])).T\n",
    "\n",
    "    for slam_node in df.slam_node.unique():\n",
    "        y_predict = model[slam_node].predict(X)\n",
    "        plt.plot(beta_ls, y_predict, linewidth=3, color=slam_node_colors[slam_node], label=f\"{slam_node}, pred\")\n",
    "\n",
    "        df_plot = df[(df.slam_node == slam_node) & \n",
    "                     (df.laser_scan_max_range == laser_scan_max_range) & \n",
    "                     (df.laser_scan_fov_deg == laser_scan_fov_deg) & \n",
    "                     (df.tgs == tgs)\n",
    "                    ].groupby(df.beta)[output_metric.name].mean()\n",
    "        plt.plot(df_plot.index, df_plot, '--o', color=slam_node_colors[slam_node], label=f\"{slam_node}, data\")\n",
    "    plt.xlim([df.beta.min(), df.beta.max()])\n",
    "    plt.ylim([0.0, 0.7])\n",
    "    plt.xlabel(\"beta\")\n",
    "    plt.ylabel(f\"{output_metric.name}\")\n",
    "    plt.legend()\n",
    "    plt.grid()\n",
    "    plt.show()\n",
    "\n",
    "interact(plot_func, \n",
    "         laser_scan_max_range=widgets.SelectionSlider(\n",
    "             options=sorted(list(df.laser_scan_max_range.unique())),\n",
    "             value=df.laser_scan_max_range.min(),\n",
    "             description='laser_scan_max_range:',\n",
    "             disabled=False,\n",
    "             continuous_update=True,\n",
    "             orientation='horizontal',\n",
    "             readout=True\n",
    "         ),\n",
    "         laser_scan_fov_deg=widgets.SelectionSlider(\n",
    "             options=sorted(list(df.laser_scan_fov_deg.unique())),\n",
    "             value=df.laser_scan_fov_deg.min(),\n",
    "             description='laser_scan_fov_deg:',\n",
    "             disabled=False,\n",
    "             continuous_update=True,\n",
    "             orientation='horizontal',\n",
    "             readout=True\n",
    "         ),\n",
    "         tgs=widgets.SelectionSlider(\n",
    "             options=sorted(list(df.tgs.unique())),\n",
    "             value=df.tgs.min(),\n",
    "             description='tgs:',\n",
    "             disabled=False,\n",
    "             continuous_update=True,\n",
    "             orientation='horizontal',\n",
    "             readout=True\n",
    "         ),\n",
    ");"
   ]
  },
  {
   "cell_type": "code",
   "execution_count": null,
   "metadata": {},
   "outputs": [],
   "source": [
    "import matplotlib.pyplot as plt\n",
    "%matplotlib inline\n",
    "\n",
    "n = 100\n",
    "def plot_func(laser_scan_max_range, laser_scan_fov_deg, beta):\n",
    "    \n",
    "    plt.figure(figsize=1.5*np.array([5, 5]))\n",
    "    \n",
    "    laser_scan_max_range_ls = np.array([laser_scan_max_range]*n)\n",
    "    laser_scan_fov_deg_ls = np.array([laser_scan_fov_deg]*n)\n",
    "    beta_ls = np.array([beta]*n)\n",
    "\n",
    "    tgs_ls = np.linspace(df.tgs.min(), df.tgs.max(), n)\n",
    "    tgs_values = df.tgs.unique()\n",
    "\n",
    "    X = features_transform(*np.array([laser_scan_max_range_ls, laser_scan_fov_deg_ls, beta_ls, tgs_ls])).T\n",
    "\n",
    "    for slam_node in df.slam_node.unique():\n",
    "        y_predict = model[slam_node].predict(X)\n",
    "        plt.plot(tgs_ls, y_predict, linewidth=3, color=slam_node_colors[slam_node], label=f\"{slam_node}, pred\")\n",
    "\n",
    "        df_plot = df[(df.slam_node == slam_node) & \n",
    "                     (df.laser_scan_max_range == laser_scan_max_range) & \n",
    "                     (df.laser_scan_fov_deg == laser_scan_fov_deg) & \n",
    "                     (df.beta == beta)\n",
    "                    ].groupby(df.tgs)[output_metric.name].mean()\n",
    "        plt.plot(df_plot.index, df_plot, '--o', color=slam_node_colors[slam_node], label=f\"{slam_node}, data\")\n",
    "    plt.xlim([df.tgs.min(), df.tgs.max()])\n",
    "    plt.ylim([0.0, 0.7])\n",
    "    plt.xlabel(\"tgs\")\n",
    "    plt.ylabel(f\"{output_metric.name}\")\n",
    "    plt.legend()\n",
    "    plt.grid()\n",
    "    plt.show()\n",
    "\n",
    "interact(plot_func, \n",
    "         laser_scan_max_range=widgets.SelectionSlider(\n",
    "             options=sorted(list(df.laser_scan_max_range.unique())),\n",
    "             value=df.laser_scan_max_range.min(),\n",
    "             description='laser_scan_max_range:',\n",
    "             disabled=False,\n",
    "             continuous_update=True,\n",
    "             orientation='horizontal',\n",
    "             readout=True\n",
    "         ),\n",
    "         laser_scan_fov_deg=widgets.SelectionSlider(\n",
    "             options=sorted(list(df.laser_scan_fov_deg.unique())),\n",
    "             value=df.laser_scan_fov_deg.min(),\n",
    "             description='laser_scan_fov_deg:',\n",
    "             disabled=False,\n",
    "             continuous_update=True,\n",
    "             orientation='horizontal',\n",
    "             readout=True\n",
    "         ),\n",
    "         beta=widgets.SelectionSlider(\n",
    "             options=sorted(list(df.beta.unique())),\n",
    "             value=df.beta.min(),\n",
    "             description='beta:',\n",
    "             disabled=False,\n",
    "             continuous_update=True,\n",
    "             orientation='horizontal',\n",
    "             readout=True\n",
    "         ),\n",
    "         \n",
    ");"
   ]
  }
 ],
 "metadata": {
  "kernelspec": {
   "display_name": "Python 3",
   "language": "python",
   "name": "python3"
  },
  "language_info": {
   "codemirror_mode": {
    "name": "ipython",
    "version": 3
   },
   "file_extension": ".py",
   "mimetype": "text/x-python",
   "name": "python",
   "nbconvert_exporter": "python",
   "pygments_lexer": "ipython3",
   "version": "3.8.10"
  }
 },
 "nbformat": 4,
 "nbformat_minor": 4
}
