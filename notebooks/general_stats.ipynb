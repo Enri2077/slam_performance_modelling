{
 "cells": [
  {
   "cell_type": "code",
   "execution_count": 1,
   "metadata": {},
   "outputs": [
    {
     "data": {
      "text/html": [
       "<style>.container { width:100% !important; }</style>"
      ],
      "text/plain": [
       "<IPython.core.display.HTML object>"
      ]
     },
     "metadata": {},
     "output_type": "display_data"
    }
   ],
   "source": [
    "from IPython.core.display import Markdown, display, HTML\n",
    "display(HTML(\"<style>.container { width:100% !important; }</style>\"))\n",
    "import ipywidgets as widgets\n",
    "from ipywidgets import interact, interact_manual\n",
    "\n",
    "import traceback\n",
    "import numpy as np\n",
    "import scipy.stats as ss\n",
    "import itertools\n",
    "from os import path\n",
    "import pickle\n",
    "from sklearn.linear_model import LinearRegression, TheilSenRegressor, RANSACRegressor, HuberRegressor\n",
    "from sklearn.metrics import mean_squared_error, r2_score\n",
    "from sklearn.preprocessing import PolynomialFeatures, StandardScaler\n",
    "from sklearn.pipeline import make_pipeline\n",
    "\n",
    "import matplotlib.pyplot as plt\n",
    "plt.rcParams['figure.figsize'] = [13, 13]\n",
    "\n",
    "import pandas as pd\n",
    "pd.options.display.width = 500\n",
    "\n",
    "slam_node_colors = {'gmapping': 'orange', 'slam_toolbox': 'blue', 'hector_slam': 'cyan'}\n"
   ]
  },
  {
   "cell_type": "code",
   "execution_count": 2,
   "metadata": {},
   "outputs": [],
   "source": [
    "def load_cache(file_path):\n",
    "    with open(path.expanduser(file_path), 'rb') as f:\n",
    "        cache_dict = pickle.load(f)\n",
    "        return cache_dict['df']\n",
    "\n",
    "def printmd(*args):\n",
    "    display(Markdown(' '.join(map(str, args))))"
   ]
  },
  {
   "cell_type": "code",
   "execution_count": 14,
   "metadata": {
    "scrolled": false
   },
   "outputs": [
    {
     "name": "stdout",
     "output_type": "stream",
     "text": [
      "beta\n",
      "ceres_loss_function\n",
      "environment_name\n",
      "fewer_nav_goals\n",
      "geometric_similarity_end_time\n",
      "geometric_similarity_mean_of_covariance_theta_theta\n",
      "geometric_similarity_mean_of_covariance_x_x\n",
      "geometric_similarity_mean_of_covariance_y_y\n",
      "geometric_similarity_mean_of_translation_eigenvalues_ratio\n",
      "geometric_similarity_mean_of_translation_eigenvalues_ratio_all\n",
      "geometric_similarity_range_limit_end_time\n",
      "geometric_similarity_range_limit_mean_of_covariance_theta_theta\n",
      "geometric_similarity_range_limit_mean_of_covariance_x_x\n",
      "geometric_similarity_range_limit_mean_of_covariance_y_y\n",
      "geometric_similarity_range_limit_mean_of_translation_eigenvalues_ratio\n",
      "geometric_similarity_range_limit_mean_of_translation_eigenvalues_ratio_all\n",
      "geometric_similarity_range_limit_start_time\n",
      "geometric_similarity_range_limit_version\n",
      "geometric_similarity_sensor_end_time\n",
      "geometric_similarity_sensor_mean_of_covariance_theta_theta\n",
      "geometric_similarity_sensor_mean_of_covariance_x_x\n",
      "geometric_similarity_sensor_mean_of_covariance_y_y\n",
      "geometric_similarity_sensor_mean_of_translation_eigenvalues_ratio\n",
      "geometric_similarity_sensor_mean_of_translation_eigenvalues_ratio_all\n",
      "geometric_similarity_sensor_start_time\n",
      "geometric_similarity_sensor_version\n",
      "geometric_similarity_start_time\n",
      "geometric_similarity_version\n",
      "goal_tolerance\n",
      "laser_scan_fov_deg\n",
      "laser_scan_max_range\n",
      "lidar_visibility_end_time\n",
      "lidar_visibility_mean_ranges_max\n",
      "lidar_visibility_mean_ranges_mean\n",
      "lidar_visibility_mean_ranges_median\n",
      "lidar_visibility_mean_ranges_min\n",
      "lidar_visibility_mean_visible_fov_deg\n",
      "lidar_visibility_mean_visible_ranges_count\n",
      "lidar_visibility_mean_visible_ranges_max\n",
      "lidar_visibility_mean_visible_ranges_mean\n",
      "lidar_visibility_mean_visible_ranges_median\n",
      "lidar_visibility_mean_visible_ranges_min\n",
      "lidar_visibility_mean_visible_ranges_ratio\n",
      "lidar_visibility_start_time\n",
      "linear_angular_update\n",
      "map_resolution\n",
      "particles\n",
      "relative_localization_error_rotation_mean\n",
      "relative_localization_error_translation_mean\n",
      "run_absolute_bag_completion_time\n",
      "run_absolute_completion_time\n",
      "run_absolute_start_time\n",
      "run_folder\n",
      "slam_node\n",
      "trajectory_length_end_time\n",
      "trajectory_length_start_time\n",
      "trajectory_length_trajectory_length\n",
      "waypoint_absolute_localization_error_absolute_rotation_error_end\n",
      "waypoint_absolute_localization_error_absolute_rotation_error_start\n",
      "waypoint_absolute_localization_error_absolute_translation_error_end\n",
      "waypoint_absolute_localization_error_absolute_translation_error_start\n",
      "waypoint_absolute_localization_error_end_time\n",
      "waypoint_absolute_localization_error_start_time\n",
      "waypoint_relative_localization_error_end_time\n",
      "waypoint_relative_localization_error_rotation_error_final\n",
      "waypoint_relative_localization_error_rotation_error_max\n",
      "waypoint_relative_localization_error_rotation_error_mean\n",
      "waypoint_relative_localization_error_rotation_error_min\n",
      "waypoint_relative_localization_error_start_time\n",
      "waypoint_relative_localization_error_translation_error_final\n",
      "waypoint_relative_localization_error_translation_error_max\n",
      "waypoint_relative_localization_error_translation_error_mean\n",
      "waypoint_relative_localization_error_translation_error_min\n",
      "waypoint_start_time\n"
     ]
    },
    {
     "data": {
      "text/markdown": [
       "## Parameters and Their Values"
      ],
      "text/plain": [
       "<IPython.core.display.Markdown object>"
      ]
     },
     "metadata": {},
     "output_type": "display_data"
    },
    {
     "data": {
      "text/markdown": [
       "               laser_scan_max_range [3.5, 8.0, 15.0, 30.0]"
      ],
      "text/plain": [
       "<IPython.core.display.Markdown object>"
      ]
     },
     "metadata": {},
     "output_type": "display_data"
    },
    {
     "data": {
      "text/markdown": [
       "                 laser_scan_fov_deg [90, 180, 270, 359]"
      ],
      "text/plain": [
       "<IPython.core.display.Markdown object>"
      ]
     },
     "metadata": {},
     "output_type": "display_data"
    },
    {
     "data": {
      "text/markdown": [
       "                               beta [0.0, 0.5, 1.0, 1.5, 2.0]"
      ],
      "text/plain": [
       "<IPython.core.display.Markdown object>"
      ]
     },
     "metadata": {},
     "output_type": "display_data"
    },
    {
     "data": {
      "text/markdown": [
       "                         start_time [0, 1, 2, 3, 4, 5, 6, 7, 8, 9]"
      ],
      "text/plain": [
       "<IPython.core.display.Markdown object>"
      ]
     },
     "metadata": {},
     "output_type": "display_data"
    },
    {
     "data": {
      "text/markdown": [
       "      accumulated_trajectory_length [0, 1, 2, 3, 4, 5, 6, 7, 8, 9]"
      ],
      "text/plain": [
       "<IPython.core.display.Markdown object>"
      ]
     },
     "metadata": {},
     "output_type": "display_data"
    },
    {
     "data": {
      "text/markdown": [
       "                                tgs [0, 1, 2, 3, 4]"
      ],
      "text/plain": [
       "<IPython.core.display.Markdown object>"
      ]
     },
     "metadata": {},
     "output_type": "display_data"
    },
    {
     "data": {
      "text/markdown": [
       "                                lvr [0.0, 1.0, 2.0, 3.0, 4.0, 5.0, 6.0, 7.0, 8.0, 9.0]"
      ],
      "text/plain": [
       "<IPython.core.display.Markdown object>"
      ]
     },
     "metadata": {},
     "output_type": "display_data"
    },
    {
     "data": {
      "text/markdown": [
       "                          slam_node ['gmapping', 'slam_toolbox']"
      ],
      "text/plain": [
       "<IPython.core.display.Markdown object>"
      ]
     },
     "metadata": {},
     "output_type": "display_data"
    },
    {
     "data": {
      "text/markdown": [
       "                   environment_name ['7A-2', 'airlab', 'fr079', 'office_b']"
      ],
      "text/plain": [
       "<IPython.core.display.Markdown object>"
      ]
     },
     "metadata": {},
     "output_type": "display_data"
    }
   ],
   "source": [
    "# load data from cache and rename columns\n",
    "df_new_config = load_cache(\"/home/enrico/ds/performance_modelling/output/slam_new_config/run_data_per_waypoint_cache.pkl\")\n",
    "df_many_odoms = load_cache(\"/home/enrico/ds/performance_modelling/output/slam_many_odoms/run_data_per_waypoint_cache.pkl\")\n",
    "df = df_new_config.append(df_many_odoms, ignore_index=True, sort=False)\n",
    "for i in df.columns: print(i);\n",
    "    \n",
    "df.rename(inplace=True, columns={\n",
    "    'trajectory_length_trajectory_length': 'trajectory_length',\n",
    "    'waypoint_relative_localization_error_translation_error_final': 'translation_error',\n",
    "    'waypoint_absolute_localization_error_absolute_translation_error_start': 'absolute_translation_error',\n",
    "    'waypoint_relative_localization_error_rotation_error_final': 'rotation_error',\n",
    "    'geometric_similarity_sensor_mean_of_translation_eigenvalues_ratio_all': 'tgs_cont',\n",
    "    'lidar_visibility_mean_visible_ranges_ratio': 'lvr_cont',\n",
    "    'waypoint_start_time': 'start_time_cont',\n",
    "    'trajectory_length_start_time': 'st',\n",
    "    'trajectory_length_end_time': 'et',\n",
    "})\n",
    "\n",
    "# refactor and extract additional parameters and metrics\n",
    "df['linear_update'] = df['linear_angular_update'].apply(lambda x: x[0])\n",
    "df['beta'] = df['beta'].apply(lambda x: max(x))\n",
    "df['norm_translation_error'] = df.translation_error / df.trajectory_length\n",
    "df['run_id'] = df['run_folder'].apply(lambda x: path.basename(x))\n",
    "df['waypoint_index'] = df.sort_values('start_time_cont').groupby(df.run_id).cumcount()\n",
    "df['accumulated_trajectory_length_cont'] = df.sort_values('start_time_cont').groupby(df.run_id).trajectory_length.cumsum() - df.trajectory_length\n",
    "df['session_id'] =  df['run_id'].apply(lambda x:  x.split('_')[1]+'_'+x.split('_')[2]+'_'+x.split('_')[3])\n",
    "df['run_number'] =  df['run_id'].apply(lambda x:  int(x.split('_')[5]))\n",
    "df['p'] = df.translation_error.apply(lambda x: x > 0.2)\n",
    "\n",
    "# discretize continuous input metrics\n",
    "df['tgs'] = pd.cut(df.tgs_cont, 5, labels=False)\n",
    "df['lvr'] = pd.cut(df.lvr_cont, 10, labels=False)\n",
    "df['start_time'] = pd.cut(df.start_time_cont, 10, labels=False)\n",
    "df['accumulated_trajectory_length'] = pd.cut(df.accumulated_trajectory_length_cont, 10, labels=False)\n",
    "\n",
    "# drop unnecessary datapoints\n",
    "# df = df[(\n",
    "#     ((df.slam_node == 'gmapping') | (df.slam_node == 'slam_toolbox')) & (df.linear_update == 0.5) #|\n",
    "# #     (df.slam_node == 'hector_slam') & (df.linear_update == 0.4)\n",
    "# )]\n",
    "df = df[((df.slam_node == 'gmapping') | (df.slam_node == 'slam_toolbox')) & (df.linear_update == 0.5)]\n",
    "df = df[df.trajectory_length > 1]\n",
    "df = df[df.absolute_translation_error < 5]\n",
    "\n",
    "# only keep necessary columns\n",
    "robot_parameters = [\n",
    "    'laser_scan_max_range',\n",
    "    'laser_scan_fov_deg',\n",
    "    'beta',\n",
    "]\n",
    "other_parameters = [\n",
    "    'run_absolute_start_time',\n",
    "    'session_id',\n",
    "    'run_number',\n",
    "    'run_id',\n",
    "    'slam_node',\n",
    "    'environment_name',\n",
    "]\n",
    "input_discretized_metrics = [\n",
    "    'start_time',\n",
    "    'accumulated_trajectory_length',\n",
    "    'tgs',\n",
    "    'lvr',\n",
    "]\n",
    "input_continuous_metrics = [\n",
    "    'waypoint_index',\n",
    "    'start_time_cont',\n",
    "    'tgs_cont',\n",
    "    'lvr_cont',\n",
    "]\n",
    "output_metrics = [\n",
    "    'norm_translation_error',\n",
    "    'absolute_translation_error',\n",
    "    'p',\n",
    "]\n",
    "df = df[\n",
    "    robot_parameters +\n",
    "    other_parameters +\n",
    "    input_discretized_metrics +\n",
    "    input_continuous_metrics +\n",
    "    output_metrics + \n",
    "    ['st', 'et']\n",
    "]\n",
    "\n",
    "mrs = sorted(list(df.laser_scan_max_range.unique()))\n",
    "fovs = sorted(list(df.laser_scan_fov_deg.unique()))\n",
    "betas = sorted(list(df.beta.unique()))\n",
    "betas_fovs = list(itertools.product(betas, fovs))\n",
    "\n",
    "printmd(\"## Parameters and Their Values\")\n",
    "for c in robot_parameters + input_discretized_metrics + ['slam_node', 'environment_name',]:\n",
    "    printmd(\"{:>35}\".format(c), sorted(list(df[c].unique())))"
   ]
  },
  {
   "cell_type": "code",
   "execution_count": 9,
   "metadata": {
    "scrolled": false
   },
   "outputs": [
    {
     "name": "stdout",
     "output_type": "stream",
     "text": [
      "1747\n"
     ]
    }
   ],
   "source": [
    "print(len(df.run_id.unique()))"
   ]
  },
  {
   "cell_type": "code",
   "execution_count": 52,
   "metadata": {},
   "outputs": [
    {
     "name": "stdout",
     "output_type": "stream",
     "text": [
      "\n",
      "     laser_scan_max_range\n",
      "                      3.5: 17934\n",
      "                      8.0: 49290\n",
      "                     15.0: 32758\n",
      "                     30.0: 60241\n",
      "\n",
      "       laser_scan_fov_deg\n",
      "                       90: 20961\n",
      "                      180: 51596\n",
      "                      270: 31094\n",
      "                      359: 56572\n",
      "\n",
      "                     beta\n",
      "                      0.0: 61024\n",
      "                      0.5: 16403\n",
      "                      1.0: 16419\n",
      "                      1.5: 16134\n",
      "                      2.0: 50243\n",
      "\n",
      "                      tgs\n",
      "                        0: 10188\n",
      "                        1: 45398\n",
      "                        2: 56405\n",
      "                        3: 35647\n",
      "                        4: 12585\n",
      "\n",
      "                slam_node\n",
      "                 gmapping: 79336\n",
      "             slam_toolbox: 80887\n"
     ]
    }
   ],
   "source": [
    "model_params = robot_parameters+['tgs', 'slam_node']\n",
    "for p in model_params:\n",
    "    print(f\"\\n{p:>25}\")\n",
    "    for v in sorted(df[p].unique()):\n",
    "        print(f\"{v:>25}: {len(df[(df[p] == v)])}\")"
   ]
  },
  {
   "cell_type": "code",
   "execution_count": 38,
   "metadata": {},
   "outputs": [
    {
     "name": "stdout",
     "output_type": "stream",
     "text": [
      "Hours of trajectory execution: 853.936148611111\n",
      "Days of trajectory execution: 35.58067285879629\n"
     ]
    }
   ],
   "source": [
    "print(\"Hours of trajectory execution:\", (df.et - df.st).sum()/60/60)\n",
    "print(\"Days of trajectory execution:\", (df.et - df.st).sum()/60/60/24)"
   ]
  }
 ],
 "metadata": {
  "kernelspec": {
   "display_name": "Python 3",
   "language": "python",
   "name": "python3"
  },
  "language_info": {
   "codemirror_mode": {
    "name": "ipython",
    "version": 3
   },
   "file_extension": ".py",
   "mimetype": "text/x-python",
   "name": "python",
   "nbconvert_exporter": "python",
   "pygments_lexer": "ipython3",
   "version": "3.8.5"
  }
 },
 "nbformat": 4,
 "nbformat_minor": 4
}
